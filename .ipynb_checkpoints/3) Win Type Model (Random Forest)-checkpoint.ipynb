{
 "cells": [
  {
   "cell_type": "code",
   "execution_count": 1,
   "metadata": {
    "collapsed": true
   },
   "outputs": [],
   "source": [
    "from sklearn import tree\n",
    "import pandas as pd\n",
    "import numpy as np\n",
    "from sklearn.cross_validation import train_test_split\n",
    "from sklearn import metrics\n",
    "import matplotlib.pyplot as plt\n",
    "\n",
    "%matplotlib inline"
   ]
  },
  {
   "cell_type": "code",
   "execution_count": 2,
   "metadata": {
    "collapsed": true
   },
   "outputs": [],
   "source": [
    "UFC = pd.read_csv('Data/2a) UFC Fights.csv')\n",
    "\n",
    "#make sure theres no space in the columns\n",
    "UFC.columns = [c.replace(' ', '_') for c in UFC.columns]\n",
    "\n",
    "#change outcome win = 1, everything else 0\n",
    "UFC['OUTCOME1'] = UFC.OUTCOME.map({'win':1, 'loss':0, 'draw':0, 'NC':0})\n",
    "\n",
    "#change stance and stance_diff into 1,0\n",
    "#lets just put orthodox as 1, other as 0\n",
    "UFC['STANCE1'] = UFC.STANCE.map({'Orthodox':1, 'Southpaw':0, 'Switch':0, 'Open Stance':0,'Sideways':0})\n",
    "#same stance = 0\n",
    "UFC['STANCE_DIFF1'] = UFC.STANCE_DIFF.map({'Same Stance':0, 'Different Stance':1})\n",
    "\n",
    "#Try using more stance information\n",
    "# create a DataFrame with the four dummy variable columns\n",
    "STANCE_dummies = pd.get_dummies(UFC.STANCE, prefix='STANCE').iloc[:, 1:]\n",
    "#STANCE_dummies\n",
    "UFC = pd.concat([UFC, STANCE_dummies], axis=1)\n",
    "\n",
    "#Stance information works well, but it looksl ike southpaw is a great advantage. Group observations into southpaw = 1\n",
    "#Other = 0\n",
    "UFC['STANCE2'] = UFC.STANCE.map({'Orthodox':0, 'Southpaw':1, 'Switch':0, 'Open Stance':0,'Sideways':0})"
   ]
  },
  {
   "cell_type": "code",
   "execution_count": 3,
   "metadata": {
    "collapsed": false
   },
   "outputs": [
    {
     "name": "stdout",
     "output_type": "stream",
     "text": [
      "Lightweight          703\n",
      "Welterweight         693\n",
      "Middleweight         542\n",
      "Light Heavyweight    356\n",
      "Heavyweight          333\n",
      "Featherweight        265\n",
      "Bantamweight         211\n",
      "Flyweight            105\n",
      "Name: WEIGHT_CLASS, dtype: int64\n",
      "Index([u'FIGHT_ORDER', u'KEY', u'ROUND_FORMAT', u'EVENT_TYPE', u'EVENT_NAME',\n",
      "       u'EVENT_YEAR', u'EVENT_MONTH', u'EVENT_DAY', u'LOCATION_COUNTRY',\n",
      "       u'LOCATION_CITY', u'VENUE', u'ATTENDANCE', u'MAIN_FIGHT', u'MID',\n",
      "       u'WEIGHT_CLASS', u'REF', u'METHOD', u'METHOD_D', u'ROUND',\n",
      "       u'FINISH_ROUND_MIN', u'FINISH_ROUND_SEC', u'FINISH_ROUND_INSECONDS',\n",
      "       u'TOTAL_INSECONDS', u'FIGHTER_NAME', u'FIGHER_NO', u'OUTCOME',\n",
      "       u'FIGHTER_ID', u'STR', u'TD', u'SUB', u'PASS', u'NICK', u'ASSOCIATION',\n",
      "       u'LOCALITY', u'COUNTRY', u'BIRTH_YEAR', u'AGE_AT_FIGHT', u'HEIGHT_CM',\n",
      "       u'WEIGHT_KG', u'REACH_INCH', u'REACH_INCH1', u'STANCE', u'WIN_AT_FIGHT',\n",
      "       u'NOTWIN_AT_FIGHT', u'TOTAL_AT_FIGHT', u'WINRATIO_AT_FIGHT',\n",
      "       u'STRAVG_AT_FIGHT', u'TDAVG_AT_FIGHT', u'SUBAVG_AT_FIGHT',\n",
      "       u'PASSAVG_AT_FIGHT', u'AGE_DIFF', u'HEIGHT_DIFF', u'WEIGHT_DIFF',\n",
      "       u'REACH_DIFF', u'EXP_DIFF', u'STRAVG_AT_FIGHT_DIFF',\n",
      "       u'TDAVG_AT_FIGHT_DIFF', u'SUBAVG_AT_FIGHT_DIFF',\n",
      "       u'PASSAVG_AT_FIGHT_DIFF', u'WINRATIO_DIFF', u'STANCE_DIFF',\n",
      "       u'REACH_DIFF1', u'OUTCOME1', u'STANCE1', u'STANCE_DIFF1',\n",
      "       u'STANCE_Orthodox', u'STANCE_Sideways', u'STANCE_Southpaw',\n",
      "       u'STANCE_Switch', u'STANCE2'],\n",
      "      dtype='object')\n"
     ]
    }
   ],
   "source": [
    "#Add Business Filters - JUST TAKE WIN OBSERVATIONS\n",
    "#Exclude fights where it is single round only\n",
    "UFC1=UFC[(UFC.ROUND_FORMAT == 'MULTI-ROUND')]\n",
    "\n",
    "#see how many fights are there for each weight class\n",
    "#print UFC1.WEIGHT_CLASS.value_counts()\n",
    "\n",
    "#from initial investigation we will exclude Women's classes, Catch Weight and Super Heavyweight\n",
    "UFC1=UFC[(UFC.ROUND_FORMAT == 'MULTI-ROUND')&(UFC.OUTCOME1==1)&(-UFC.WEIGHT_CLASS.isin(['Super Heavyweight','Catch Weight','Womens Bantamweight','Womens Strawweight']))&(UFC.WEIGHT_CLASS.notnull())]\n",
    "print UFC1.WEIGHT_CLASS.value_counts()\n",
    "print UFC1.columns"
   ]
  },
  {
   "cell_type": "code",
   "execution_count": 4,
   "metadata": {
    "collapsed": false
   },
   "outputs": [
    {
     "name": "stdout",
     "output_type": "stream",
     "text": [
      "(3208, 37)\n",
      "(2470, 37)\n"
     ]
    },
    {
     "data": {
      "image/png": "[encoded data removed]",
      "text/plain": [
       "<matplotlib.figure.Figure at 0x103ca6c50>"
      ]
     },
     "metadata": {},
     "output_type": "display_data"
    }
   ],
   "source": [
    "#drop everything except the variables we want keep - building only a Diff Model\n",
    "#UFC1b = UFC1.iloc[:,[11,12,13,14,16,17,22,25,34,36,37,38,39,40,41,42,43,44,45,46,47,48,49]]\n",
    "UFC1b = UFC1.iloc[:,[11,12,13,14,16,17,22,25,34,36,37,38,39,40,41,42,43,44,45,46,47,48,49,50,51,52,53,54,55,56,57,58,59,60,61,62,69]]\n",
    "print UFC1b.shape\n",
    "#print UFC1b.head(5)\n",
    "#dropping any missing observations\n",
    "UFC1b = UFC1b.dropna()\n",
    "print UFC1b.shape\n",
    "\n",
    "UFC1b['METHOD1'] = UFC.METHOD.map({'Decision':0, 'TKO':1, 'Submission':2, 'KO':1,'DQ':0})\n",
    "UFC1b.METHOD1.hist(by=UFC1b.WEIGHT_CLASS, sharex=True, sharey=True)\n",
    "plt.show()"
   ]
  },
  {
   "cell_type": "code",
   "execution_count": 32,
   "metadata": {
    "collapsed": false
   },
   "outputs": [
    {
     "name": "stdout",
     "output_type": "stream",
     "text": [
      "                        0         1\n",
      "1            AGE_AT_FIGHT  0.240587\n",
      "18  PASSAVG_AT_FIGHT_DIFF  0.190771\n",
      "3               WEIGHT_KG  0.169735\n",
      "9         SUBAVG_AT_FIGHT  0.149950\n",
      "7         STRAVG_AT_FIGHT  0.091771\n",
      "15   STRAVG_AT_FIGHT_DIFF  0.084480\n",
      "17   SUBAVG_AT_FIGHT_DIFF  0.072706\n",
      "0                     MID  0.000000\n",
      "13            WEIGHT_DIFF  0.000000\n",
      "20            REACH_DIFF1  0.000000\n",
      "19          WINRATIO_DIFF  0.000000\n",
      "16    TDAVG_AT_FIGHT_DIFF  0.000000\n",
      "14               EXP_DIFF  0.000000\n",
      "11               AGE_DIFF  0.000000\n",
      "12            HEIGHT_DIFF  0.000000\n",
      "10       PASSAVG_AT_FIGHT  0.000000\n",
      "8          TDAVG_AT_FIGHT  0.000000\n",
      "6       WINRATIO_AT_FIGHT  0.000000\n",
      "5          TOTAL_AT_FIGHT  0.000000\n",
      "4             REACH_INCH1  0.000000\n",
      "2               HEIGHT_CM  0.000000\n",
      "21                STANCE2  0.000000\n",
      "0.430894308943\n",
      "predicted   0  2\n",
      "actual          \n",
      "0          52  7\n",
      "1          31  0\n",
      "2          32  1\n"
     ]
    },
    {
     "name": "stderr",
     "output_type": "stream",
     "text": [
      "/Users/LouisTsang/anaconda/lib/python2.7/site-packages/ipykernel/__main__.py:18: FutureWarning: by argument to sort_index is deprecated, pls use .sort_values(by=...)\n"
     ]
    }
   ],
   "source": [
    "#Light Tree Model\n",
    "\n",
    "CLASS = 'Flyweight','Bantamweight','Featherweight',\n",
    "feature_cols = UFC1b[(UFC1b.WEIGHT_CLASS.isin(CLASS))].iloc[:,[2,9,10,11,13,17,18,19,20,21,22,23,24,25,27,28,29,30,31,32,34,36]]\n",
    "X = feature_cols\n",
    "y = UFC1b[(UFC1b.WEIGHT_CLASS.isin(CLASS))].METHOD1\n",
    "\n",
    "#split the data into training and testing sets\n",
    "from sklearn.cross_validation import train_test_split\n",
    "X_train, X_test, y_train, y_test = train_test_split(X, y, random_state=1)\n",
    "\n",
    "# Fit the decision tree classifier\n",
    "ctree = tree.DecisionTreeClassifier(random_state=1, max_depth=3)\n",
    "ctree.fit(X_train, y_train)\n",
    "\n",
    "# Clean up the output\n",
    "features = X_train.columns.tolist()\n",
    "print pd.DataFrame(zip(features, ctree.feature_importances_)).sort_index(by=1, ascending=False)\n",
    "\n",
    "# Make predictions on the test set\n",
    "preds = ctree.predict(X_test)\n",
    "print metrics.accuracy_score(y_test, preds)\n",
    "\n",
    "# Confusion matrix\n",
    "print pd.crosstab(y_test, preds, rownames=['actual'], colnames=['predicted'])\n",
    "\n",
    "# Make predictions on the test set using predict_proba\n",
    "probs = ctree.predict(X_test)"
   ]
  },
  {
   "cell_type": "code",
   "execution_count": 6,
   "metadata": {
    "collapsed": false
   },
   "outputs": [
    {
     "name": "stdout",
     "output_type": "stream",
     "text": [
      "[[ 0.43809524  0.35714286  0.2047619 ]]\n",
      "[ 0.]\n"
     ]
    },
    {
     "name": "stderr",
     "output_type": "stream",
     "text": [
      "/Users/LouisTsang/anaconda/lib/python2.7/site-packages/sklearn/utils/validation.py:386: DeprecationWarning: Passing 1d arrays as data is deprecated in 0.17 and willraise ValueError in 0.19. Reshape your data either using X.reshape(-1, 1) if your data has a single feature or X.reshape(1, -1) if it contains a single sample.\n",
      "  DeprecationWarning)\n",
      "/Users/LouisTsang/anaconda/lib/python2.7/site-packages/sklearn/utils/validation.py:386: DeprecationWarning: Passing 1d arrays as data is deprecated in 0.17 and willraise ValueError in 0.19. Reshape your data either using X.reshape(-1, 1) if your data has a single feature or X.reshape(1, -1) if it contains a single sample.\n",
      "  DeprecationWarning)\n"
     ]
    }
   ],
   "source": [
    "#predictions - Light\n",
    "print ctree.predict_proba([10,25,185,75,70,10,0.8,2,2,2.1,1,-3,10,2,5,1,1,1,1,0.4,10,1])\n",
    "print ctree.predict([10,25,185,75,70,10,0.8,2,2,2.1,1,-3,10,2,5,1,1,1,1,0.4,10,1])"
   ]
  },
  {
   "cell_type": "code",
   "execution_count": 29,
   "metadata": {
    "collapsed": false
   },
   "outputs": [
    {
     "data": {
      "text/plain": [
       "[<matplotlib.lines.Line2D at 0x117e5a810>]"
      ]
     },
     "execution_count": 29,
     "metadata": {},
     "output_type": "execute_result"
    },
    {
     "data": {
      "image/png": "[encoded data removed]",
      "text/plain": [
       "<matplotlib.figure.Figure at 0x1176be850>"
      ]
     },
     "metadata": {},
     "output_type": "display_data"
    }
   ],
   "source": [
    "#Grid Search for best depth - Light\n",
    "from sklearn.grid_search import GridSearchCV\n",
    "ctree = tree.DecisionTreeClassifier(random_state=1)\n",
    "depth_range = range(1, 20)\n",
    "param_grid = dict(max_depth=depth_range)\n",
    "grid = GridSearchCV(ctree, param_grid, cv=5)\n",
    "grid.fit(X_train, y_train)\n",
    "# Check out the scores of the grid search\n",
    "grid_mean_scores = [result[1] for result in grid.grid_scores_]\n",
    "# Plot the results of the grid search\n",
    "plt.figure()\n",
    "plt.plot(depth_range, grid_mean_scores)\n",
    "plt.hold(True)\n",
    "plt.grid(True)\n",
    "plt.plot(grid.best_params_['max_depth'], grid.best_score_, 'ro', markersize=12, markeredgewidth=1.5,\n",
    "         markerfacecolor='None', markeredgecolor='r')"
   ]
  },
  {
   "cell_type": "code",
   "execution_count": 31,
   "metadata": {
    "collapsed": false
   },
   "outputs": [
    {
     "name": "stdout",
     "output_type": "stream",
     "text": [
      "                        0         1\n",
      "8          TDAVG_AT_FIGHT  0.347243\n",
      "15   STRAVG_AT_FIGHT_DIFF  0.162562\n",
      "2               HEIGHT_CM  0.153828\n",
      "3               WEIGHT_KG  0.148959\n",
      "17   SUBAVG_AT_FIGHT_DIFF  0.101391\n",
      "1            AGE_AT_FIGHT  0.086018\n",
      "0                     MID  0.000000\n",
      "13            WEIGHT_DIFF  0.000000\n",
      "20            REACH_DIFF1  0.000000\n",
      "19          WINRATIO_DIFF  0.000000\n",
      "18  PASSAVG_AT_FIGHT_DIFF  0.000000\n",
      "16    TDAVG_AT_FIGHT_DIFF  0.000000\n",
      "14               EXP_DIFF  0.000000\n",
      "11               AGE_DIFF  0.000000\n",
      "12            HEIGHT_DIFF  0.000000\n",
      "10       PASSAVG_AT_FIGHT  0.000000\n",
      "9         SUBAVG_AT_FIGHT  0.000000\n",
      "7         STRAVG_AT_FIGHT  0.000000\n",
      "6       WINRATIO_AT_FIGHT  0.000000\n",
      "5          TOTAL_AT_FIGHT  0.000000\n",
      "4             REACH_INCH1  0.000000\n",
      "21                STANCE2  0.000000\n",
      "0.479704797048\n",
      "predicted    0   1  2\n",
      "actual               \n",
      "0          100  28  3\n",
      "1           58  27  2\n",
      "2           44   6  3\n"
     ]
    },
    {
     "name": "stderr",
     "output_type": "stream",
     "text": [
      "/Users/LouisTsang/anaconda/lib/python2.7/site-packages/ipykernel/__main__.py:18: FutureWarning: by argument to sort_index is deprecated, pls use .sort_values(by=...)\n"
     ]
    }
   ],
   "source": [
    "#Middle Tree Model\n",
    "\n",
    "CLASS = 'Lightweight','Welterweight',\n",
    "feature_cols = UFC1b[(UFC1b.WEIGHT_CLASS.isin(CLASS))].iloc[:,[2,9,10,11,13,17,18,19,20,21,22,23,24,25,27,28,29,30,31,32,34,36]]\n",
    "X = feature_cols\n",
    "y = UFC1b[(UFC1b.WEIGHT_CLASS.isin(CLASS))].METHOD1\n",
    "\n",
    "#split the data into training and testing sets\n",
    "from sklearn.cross_validation import train_test_split\n",
    "X_train, X_test, y_train, y_test = train_test_split(X, y, random_state=42)\n",
    "\n",
    "# Fit the decision tree classifier\n",
    "ctree = tree.DecisionTreeClassifier(random_state=42, max_depth=3)\n",
    "ctree.fit(X_train, y_train)\n",
    "\n",
    "# Clean up the output\n",
    "features = X_train.columns.tolist()\n",
    "print pd.DataFrame(zip(features, ctree.feature_importances_)).sort_index(by=1, ascending=False)\n",
    "\n",
    "# Make predictions on the test set\n",
    "preds = ctree.predict(X_test)\n",
    "print metrics.accuracy_score(y_test, preds)\n",
    "\n",
    "# Confusion matrix\n",
    "print pd.crosstab(y_test, preds, rownames=['actual'], colnames=['predicted'])\n",
    "\n",
    "# Make predictions on the test set using predict_proba\n",
    "probs = ctree.predict(X_test)"
   ]
  },
  {
   "cell_type": "code",
   "execution_count": 16,
   "metadata": {
    "collapsed": false
   },
   "outputs": [
    {
     "name": "stdout",
     "output_type": "stream",
     "text": [
      "[[ 0.6446281   0.23140496  0.12396694]]\n",
      "[ 0.]\n"
     ]
    },
    {
     "name": "stderr",
     "output_type": "stream",
     "text": [
      "/Users/LouisTsang/anaconda/lib/python2.7/site-packages/sklearn/utils/validation.py:386: DeprecationWarning: Passing 1d arrays as data is deprecated in 0.17 and willraise ValueError in 0.19. Reshape your data either using X.reshape(-1, 1) if your data has a single feature or X.reshape(1, -1) if it contains a single sample.\n",
      "  DeprecationWarning)\n",
      "/Users/LouisTsang/anaconda/lib/python2.7/site-packages/sklearn/utils/validation.py:386: DeprecationWarning: Passing 1d arrays as data is deprecated in 0.17 and willraise ValueError in 0.19. Reshape your data either using X.reshape(-1, 1) if your data has a single feature or X.reshape(1, -1) if it contains a single sample.\n",
      "  DeprecationWarning)\n"
     ]
    }
   ],
   "source": [
    "#predictions - Middle\n",
    "print ctree.predict_proba([10,25,185,75,70,10,0.8,2,2,2.1,1,-3,10,2,5,1,1,1,1,0.4,10,1])\n",
    "print ctree.predict([10,25,185,75,70,10,0.8,2,2,2.1,1,-3,10,2,5,1,1,1,1,0.4,10,1])"
   ]
  },
  {
   "cell_type": "code",
   "execution_count": 17,
   "metadata": {
    "collapsed": false
   },
   "outputs": [
    {
     "data": {
      "text/plain": [
       "[<matplotlib.lines.Line2D at 0x11826bf50>]"
      ]
     },
     "execution_count": 17,
     "metadata": {},
     "output_type": "execute_result"
    },
    {
     "data": {
      "image/png": "[encoded data removed]",
      "text/plain": [
       "<matplotlib.figure.Figure at 0x11786cb90>"
      ]
     },
     "metadata": {},
     "output_type": "display_data"
    }
   ],
   "source": [
    "#Grid Search for best depth - Middle\n",
    "from sklearn.grid_search import GridSearchCV\n",
    "ctree = tree.DecisionTreeClassifier(random_state=1)\n",
    "depth_range = range(1, 20)\n",
    "param_grid = dict(max_depth=depth_range)\n",
    "grid = GridSearchCV(ctree, param_grid, cv=5)\n",
    "grid.fit(X_train, y_train)\n",
    "# Check out the scores of the grid search\n",
    "grid_mean_scores = [result[1] for result in grid.grid_scores_]\n",
    "# Plot the results of the grid search\n",
    "plt.figure()\n",
    "plt.plot(depth_range, grid_mean_scores)\n",
    "plt.hold(True)\n",
    "plt.grid(True)\n",
    "plt.plot(grid.best_params_['max_depth'], grid.best_score_, 'ro', markersize=12, markeredgewidth=1.5,\n",
    "         markerfacecolor='None', markeredgecolor='r')"
   ]
  },
  {
   "cell_type": "code",
   "execution_count": 30,
   "metadata": {
    "collapsed": false
   },
   "outputs": [
    {
     "name": "stdout",
     "output_type": "stream",
     "text": [
      "                        0         1\n",
      "3               WEIGHT_KG  0.370954\n",
      "11               AGE_DIFF  0.166552\n",
      "18  PASSAVG_AT_FIGHT_DIFF  0.134411\n",
      "5          TOTAL_AT_FIGHT  0.097934\n",
      "16    TDAVG_AT_FIGHT_DIFF  0.075815\n",
      "15   STRAVG_AT_FIGHT_DIFF  0.056385\n",
      "1            AGE_AT_FIGHT  0.052249\n",
      "4             REACH_INCH1  0.045702\n",
      "13            WEIGHT_DIFF  0.000000\n",
      "20            REACH_DIFF1  0.000000\n",
      "19          WINRATIO_DIFF  0.000000\n",
      "17   SUBAVG_AT_FIGHT_DIFF  0.000000\n",
      "14               EXP_DIFF  0.000000\n",
      "0                     MID  0.000000\n",
      "12            HEIGHT_DIFF  0.000000\n",
      "10       PASSAVG_AT_FIGHT  0.000000\n",
      "9         SUBAVG_AT_FIGHT  0.000000\n",
      "8          TDAVG_AT_FIGHT  0.000000\n",
      "7         STRAVG_AT_FIGHT  0.000000\n",
      "6       WINRATIO_AT_FIGHT  0.000000\n",
      "2               HEIGHT_CM  0.000000\n",
      "21                STANCE2  0.000000\n",
      "0.431111111111\n",
      "predicted  0   1  2\n",
      "actual             \n",
      "0          4  81  3\n",
      "1          6  88  3\n",
      "2          1  34  5\n"
     ]
    },
    {
     "name": "stderr",
     "output_type": "stream",
     "text": [
      "/Users/LouisTsang/anaconda/lib/python2.7/site-packages/ipykernel/__main__.py:18: FutureWarning: by argument to sort_index is deprecated, pls use .sort_values(by=...)\n"
     ]
    }
   ],
   "source": [
    "#Heavy Tree Model\n",
    "\n",
    "CLASS = 'Middleweight','Light Heavyweight','Heavyweight',\n",
    "feature_cols = UFC1b[(UFC1b.WEIGHT_CLASS.isin(CLASS))].iloc[:,[2,9,10,11,13,17,18,19,20,21,22,23,24,25,27,28,29,30,31,32,34,36]]\n",
    "X = feature_cols\n",
    "y = UFC1b[(UFC1b.WEIGHT_CLASS.isin(CLASS))].METHOD1\n",
    "\n",
    "#split the data into training and testing sets\n",
    "from sklearn.cross_validation import train_test_split\n",
    "X_train, X_test, y_train, y_test = train_test_split(X, y, random_state=42)\n",
    "\n",
    "# Fit the decision tree classifier\n",
    "ctree = tree.DecisionTreeClassifier(random_state=42, max_depth=4)\n",
    "ctree.fit(X_train, y_train)\n",
    "\n",
    "# Clean up the output\n",
    "features = X_train.columns.tolist()\n",
    "print pd.DataFrame(zip(features, ctree.feature_importances_)).sort_index(by=1, ascending=False)\n",
    "\n",
    "# Make predictions on the test set\n",
    "preds = ctree.predict(X_test)\n",
    "print metrics.accuracy_score(y_test, preds)\n",
    "\n",
    "# Confusion matrix\n",
    "print pd.crosstab(y_test, preds, rownames=['actual'], colnames=['predicted'])\n",
    "\n",
    "# Make predictions on the test set using predict_proba\n",
    "probs = ctree.predict(X_test)"
   ]
  },
  {
   "cell_type": "code",
   "execution_count": 19,
   "metadata": {
    "collapsed": false
   },
   "outputs": [
    {
     "name": "stdout",
     "output_type": "stream",
     "text": [
      "[[ 1.  0.  0.]]\n",
      "[ 0.]\n"
     ]
    },
    {
     "name": "stderr",
     "output_type": "stream",
     "text": [
      "/Users/LouisTsang/anaconda/lib/python2.7/site-packages/sklearn/utils/validation.py:386: DeprecationWarning: Passing 1d arrays as data is deprecated in 0.17 and willraise ValueError in 0.19. Reshape your data either using X.reshape(-1, 1) if your data has a single feature or X.reshape(1, -1) if it contains a single sample.\n",
      "  DeprecationWarning)\n",
      "/Users/LouisTsang/anaconda/lib/python2.7/site-packages/sklearn/utils/validation.py:386: DeprecationWarning: Passing 1d arrays as data is deprecated in 0.17 and willraise ValueError in 0.19. Reshape your data either using X.reshape(-1, 1) if your data has a single feature or X.reshape(1, -1) if it contains a single sample.\n",
      "  DeprecationWarning)\n"
     ]
    }
   ],
   "source": [
    "#predictions - Heavy\n",
    "print ctree.predict_proba([10,25,185,75,70,10,0.8,2,2,2.1,1,-3,10,2,5,1,1,1,1,0.4,10,1])\n",
    "print ctree.predict([10,25,185,75,70,10,0.8,2,2,2.1,1,-3,10,2,5,1,1,1,1,0.4,10,1])"
   ]
  },
  {
   "cell_type": "code",
   "execution_count": 20,
   "metadata": {
    "collapsed": false
   },
   "outputs": [
    {
     "data": {
      "text/plain": [
       "[<matplotlib.lines.Line2D at 0x11823ddd0>]"
      ]
     },
     "execution_count": 20,
     "metadata": {},
     "output_type": "execute_result"
    },
    {
     "data": {
      "image/png": "[encoded data removed]",
      "text/plain": [
       "<matplotlib.figure.Figure at 0x11829b7d0>"
      ]
     },
     "metadata": {},
     "output_type": "display_data"
    }
   ],
   "source": [
    "#Grid Search for best depth - Heavy\n",
    "from sklearn.grid_search import GridSearchCV\n",
    "ctree = tree.DecisionTreeClassifier(random_state=1)\n",
    "depth_range = range(1, 20)\n",
    "param_grid = dict(max_depth=depth_range)\n",
    "grid = GridSearchCV(ctree, param_grid, cv=5)\n",
    "grid.fit(X_train, y_train)\n",
    "# Check out the scores of the grid search\n",
    "grid_mean_scores = [result[1] for result in grid.grid_scores_]\n",
    "# Plot the results of the grid search\n",
    "plt.figure()\n",
    "plt.plot(depth_range, grid_mean_scores)\n",
    "plt.hold(True)\n",
    "plt.grid(True)\n",
    "plt.plot(grid.best_params_['max_depth'], grid.best_score_, 'ro', markersize=12, markeredgewidth=1.5,\n",
    "         markerfacecolor='None', markeredgecolor='r')"
   ]
  }
 ],
 "metadata": {
  "kernelspec": {
   "display_name": "Python 2",
   "language": "python",
   "name": "python2"
  },
  "language_info": {
   "codemirror_mode": {
    "name": "ipython",
    "version": 2
   },
   "file_extension": ".py",
   "mimetype": "text/x-python",
   "name": "python",
   "nbconvert_exporter": "python",
   "pygments_lexer": "ipython2",
   "version": "2.7.11"
  }
 },
 "nbformat": 4,
 "nbformat_minor": 0
}
