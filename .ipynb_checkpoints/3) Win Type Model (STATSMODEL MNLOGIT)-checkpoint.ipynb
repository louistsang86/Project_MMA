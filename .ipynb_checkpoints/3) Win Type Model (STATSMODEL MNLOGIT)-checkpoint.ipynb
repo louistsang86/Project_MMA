{
 "cells": [
  {
   "cell_type": "code",
   "execution_count": 1,
   "metadata": {
    "collapsed": true
   },
   "outputs": [],
   "source": [
    "%matplotlib inline\n",
    "import pandas as pd\n",
    "import numpy as np\n",
    "import matplotlib.pyplot as plt\n",
    "import matplotlib.cm as cm\n",
    "import seaborn as sns\n",
    "import statsmodels.formula.api as smf\n",
    "from sklearn import metrics\n",
    "import statsmodels.formula.api as smf\n",
    "plt.style.use('ggplot') # This styles the graphs in a nicer format"
   ]
  },
  {
   "cell_type": "code",
   "execution_count": 2,
   "metadata": {
    "collapsed": true
   },
   "outputs": [],
   "source": [
    "UFC = pd.read_csv('Data/2a) UFC Fights.csv')\n",
    "\n",
    "#make sure theres no space in the columns\n",
    "UFC.columns = [c.replace(' ', '_') for c in UFC.columns]\n",
    "\n",
    "#change outcome win = 1, everything else 0\n",
    "UFC['OUTCOME1'] = UFC.OUTCOME.map({'win':1, 'loss':0, 'draw':0, 'NC':0})\n",
    "\n",
    "#change stance and stance_diff into 1,0\n",
    "#lets just put orthodox as 1, other as 0\n",
    "UFC['STANCE1'] = UFC.STANCE.map({'Orthodox':1, 'Southpaw':0, 'Switch':0, 'Open Stance':0,'Sideways':0})\n",
    "#same stance = 0\n",
    "UFC['STANCE_DIFF1'] = UFC.STANCE_DIFF.map({'Same Stance':0, 'Different Stance':1})\n",
    "\n",
    "#Try using more stance information\n",
    "# create a DataFrame with the four dummy variable columns\n",
    "STANCE_dummies = pd.get_dummies(UFC.STANCE, prefix='STANCE').iloc[:, 1:]\n",
    "#STANCE_dummies\n",
    "UFC = pd.concat([UFC, STANCE_dummies], axis=1)\n",
    "\n",
    "#Stance information works well, but it looksl ike southpaw is a great advantage. Group observations into southpaw = 1\n",
    "#Other = 0\n",
    "UFC['STANCE2'] = UFC.STANCE.map({'Orthodox':0, 'Southpaw':1, 'Switch':0, 'Open Stance':0,'Sideways':0})"
   ]
  },
  {
   "cell_type": "code",
   "execution_count": 3,
   "metadata": {
    "collapsed": false
   },
   "outputs": [
    {
     "name": "stdout",
     "output_type": "stream",
     "text": [
      "Lightweight          703\n",
      "Welterweight         693\n",
      "Middleweight         542\n",
      "Light Heavyweight    356\n",
      "Heavyweight          333\n",
      "Featherweight        265\n",
      "Bantamweight         211\n",
      "Flyweight            105\n",
      "Name: WEIGHT_CLASS, dtype: int64\n",
      "Index([u'FIGHT_ORDER', u'KEY', u'ROUND_FORMAT', u'EVENT_TYPE', u'EVENT_NAME',\n",
      "       u'EVENT_YEAR', u'EVENT_MONTH', u'EVENT_DAY', u'LOCATION_COUNTRY',\n",
      "       u'LOCATION_CITY', u'VENUE', u'ATTENDANCE', u'MAIN_FIGHT', u'MID',\n",
      "       u'WEIGHT_CLASS', u'REF', u'METHOD', u'METHOD_D', u'ROUND',\n",
      "       u'FINISH_ROUND_MIN', u'FINISH_ROUND_SEC', u'FINISH_ROUND_INSECONDS',\n",
      "       u'TOTAL_INSECONDS', u'FIGHTER_NAME', u'FIGHER_NO', u'OUTCOME',\n",
      "       u'FIGHTER_ID', u'STR', u'TD', u'SUB', u'PASS', u'NICK', u'ASSOCIATION',\n",
      "       u'LOCALITY', u'COUNTRY', u'BIRTH_YEAR', u'AGE_AT_FIGHT', u'HEIGHT_CM',\n",
      "       u'WEIGHT_KG', u'REACH_INCH', u'REACH_INCH1', u'STANCE', u'WIN_AT_FIGHT',\n",
      "       u'NOTWIN_AT_FIGHT', u'TOTAL_AT_FIGHT', u'WINRATIO_AT_FIGHT',\n",
      "       u'STRAVG_AT_FIGHT', u'TDAVG_AT_FIGHT', u'SUBAVG_AT_FIGHT',\n",
      "       u'PASSAVG_AT_FIGHT', u'AGE_DIFF', u'HEIGHT_DIFF', u'WEIGHT_DIFF',\n",
      "       u'REACH_DIFF', u'EXP_DIFF', u'STRAVG_AT_FIGHT_DIFF',\n",
      "       u'TDAVG_AT_FIGHT_DIFF', u'SUBAVG_AT_FIGHT_DIFF',\n",
      "       u'PASSAVG_AT_FIGHT_DIFF', u'WINRATIO_DIFF', u'STANCE_DIFF',\n",
      "       u'REACH_DIFF1', u'OUTCOME1', u'STANCE1', u'STANCE_DIFF1',\n",
      "       u'STANCE_Orthodox', u'STANCE_Sideways', u'STANCE_Southpaw',\n",
      "       u'STANCE_Switch', u'STANCE2'],\n",
      "      dtype='object')\n"
     ]
    }
   ],
   "source": [
    "#Add Business Filters - JUST TAKE WIN OBSERVATIONS\n",
    "#Exclude fights where it is single round only\n",
    "UFC1=UFC[(UFC.ROUND_FORMAT == 'MULTI-ROUND')]\n",
    "\n",
    "#see how many fights are there for each weight class\n",
    "#print UFC1.WEIGHT_CLASS.value_counts()\n",
    "\n",
    "#from initial investigation we will exclude Women's classes, Catch Weight and Super Heavyweight\n",
    "UFC1=UFC[(UFC.ROUND_FORMAT == 'MULTI-ROUND')&(UFC.OUTCOME1==1)&(-UFC.WEIGHT_CLASS.isin(['Super Heavyweight','Catch Weight','Womens Bantamweight','Womens Strawweight']))&(UFC.WEIGHT_CLASS.notnull())]\n",
    "print UFC1.WEIGHT_CLASS.value_counts()\n",
    "print UFC1.columns"
   ]
  },
  {
   "cell_type": "code",
   "execution_count": 30,
   "metadata": {
    "collapsed": false
   },
   "outputs": [],
   "source": [
    "#UFC1b.columns"
   ]
  },
  {
   "cell_type": "code",
   "execution_count": 15,
   "metadata": {
    "collapsed": false
   },
   "outputs": [
    {
     "name": "stdout",
     "output_type": "stream",
     "text": [
      "(3208, 36)\n",
      "(2470, 36)\n"
     ]
    },
    {
     "data": {
      "image/png": "[encoded data removed]",
      "text/plain": [
       "<matplotlib.figure.Figure at 0x1153885d0>"
      ]
     },
     "metadata": {},
     "output_type": "display_data"
    }
   ],
   "source": [
    "#drop everything except the variables we want keep - building only a Diff Model\n",
    "#UFC1b = UFC1.iloc[:,[11,12,13,14,16,17,22,25,34,36,37,38,39,40,41,42,43,44,45,46,47,48,49]]\n",
    "UFC1b = UFC1.iloc[:,[11,12,13,14,16,17,22,25,34,36,37,38,39,40,41,42,43,44,45,46,47,48,49,50,51,52,53,54,55,56,57,58,59,60,61,62]]\n",
    "print UFC1b.shape\n",
    "#print UFC1b.head(5)\n",
    "#dropping any missing observations\n",
    "UFC1b = UFC1b.dropna()\n",
    "print UFC1b.shape\n",
    "\n",
    "UFC1b['METHOD1'] = UFC.METHOD.map({'Decision':0, 'TKO':1, 'Submission':2, 'KO':1,'DQ':0})\n",
    "UFC1b.METHOD1.hist(by=UFC1b.WEIGHT_CLASS, sharex=True, sharey=True)\n",
    "plt.show()"
   ]
  },
  {
   "cell_type": "code",
   "execution_count": 5,
   "metadata": {
    "collapsed": false
   },
   "outputs": [
    {
     "data": {
      "image/png": "[encoded data removed]",
      "text/plain": [
       "<matplotlib.figure.Figure at 0x1146bd250>"
      ]
     },
     "metadata": {},
     "output_type": "display_data"
    }
   ],
   "source": [
    "UFC1b.STRAVG_AT_FIGHT.hist(by=UFC1b.WEIGHT_CLASS, sharex=True, sharey=True)\n",
    "plt.show()"
   ]
  },
  {
   "cell_type": "code",
   "execution_count": 32,
   "metadata": {
    "collapsed": false
   },
   "outputs": [
    {
     "data": {
      "text/plain": [
       "array([ 0.,  1.,  2.])"
      ]
     },
     "execution_count": 32,
     "metadata": {},
     "output_type": "execute_result"
    }
   ],
   "source": [
    "#X.head(5)\n",
    "#y_train.head(10)\n",
    "#logreg.classes_"
   ]
  },
  {
   "cell_type": "code",
   "execution_count": 7,
   "metadata": {
    "collapsed": false
   },
   "outputs": [
    {
     "name": "stdout",
     "output_type": "stream",
     "text": [
      "Index([u'ATTENDANCE', u'MAIN_FIGHT', u'MID', u'WEIGHT_CLASS', u'METHOD',\n",
      "       u'METHOD_D', u'TOTAL_INSECONDS', u'OUTCOME', u'COUNTRY',\n",
      "       u'AGE_AT_FIGHT', u'HEIGHT_CM', u'WEIGHT_KG', u'REACH_INCH',\n",
      "       u'REACH_INCH1', u'STANCE', u'WIN_AT_FIGHT', u'NOTWIN_AT_FIGHT',\n",
      "       u'TOTAL_AT_FIGHT', u'WINRATIO_AT_FIGHT', u'STRAVG_AT_FIGHT',\n",
      "       u'TDAVG_AT_FIGHT', u'SUBAVG_AT_FIGHT', u'PASSAVG_AT_FIGHT', u'AGE_DIFF',\n",
      "       u'HEIGHT_DIFF', u'WEIGHT_DIFF', u'REACH_DIFF', u'EXP_DIFF',\n",
      "       u'STRAVG_AT_FIGHT_DIFF', u'TDAVG_AT_FIGHT_DIFF',\n",
      "       u'SUBAVG_AT_FIGHT_DIFF', u'PASSAVG_AT_FIGHT_DIFF', u'WINRATIO_DIFF',\n",
      "       u'STANCE_DIFF', u'REACH_DIFF1', u'METHOD1'],\n",
      "      dtype='object')\n"
     ]
    }
   ],
   "source": [
    "#print UFC1.columns\n",
    "print UFC1b.columns\n",
    "#print feature_cols.columns\n",
    "#feature_cols.head(5)"
   ]
  },
  {
   "cell_type": "code",
   "execution_count": 64,
   "metadata": {
    "collapsed": false
   },
   "outputs": [
    {
     "name": "stdout",
     "output_type": "stream",
     "text": [
      "Index([u'MID', u'TOTAL_INSECONDS', u'AGE_AT_FIGHT', u'HEIGHT_CM', u'WEIGHT_KG',\n",
      "       u'REACH_INCH1', u'TOTAL_AT_FIGHT', u'WINRATIO_AT_FIGHT',\n",
      "       u'STRAVG_AT_FIGHT', u'TDAVG_AT_FIGHT', u'SUBAVG_AT_FIGHT',\n",
      "       u'PASSAVG_AT_FIGHT', u'AGE_DIFF', u'HEIGHT_DIFF', u'WEIGHT_DIFF',\n",
      "       u'EXP_DIFF', u'STRAVG_AT_FIGHT_DIFF', u'TDAVG_AT_FIGHT_DIFF',\n",
      "       u'SUBAVG_AT_FIGHT_DIFF', u'PASSAVG_AT_FIGHT_DIFF', u'WINRATIO_DIFF',\n",
      "       u'REACH_DIFF1'],\n",
      "      dtype='object')\n"
     ]
    }
   ],
   "source": [
    "CLASS = 'Flyweight','Bantamweight','Featherweight',\n",
    "UFC1c = UFC1b[(UFC1b.WEIGHT_CLASS.isin(CLASS))].iloc[:,[2,6,9,10,11,13,17,18,19,20,21,22,23,24,25,27,28,29,30,31,32,34,35]]\n",
    "#print feature_cols.columns\n",
    "print(X.columns)"
   ]
  },
  {
   "cell_type": "code",
   "execution_count": 141,
   "metadata": {
    "collapsed": false
   },
   "outputs": [
    {
     "name": "stdout",
     "output_type": "stream",
     "text": [
      "Optimization terminated successfully.\n",
      "         Current function value: 0.472945\n",
      "         Iterations 8\n",
      "                              0         1\n",
      "MID                    0.262903  0.332740\n",
      "TOTAL_INSECONDS       -0.014775 -0.012414\n",
      "AGE_AT_FIGHT          -0.050865 -0.111388\n",
      "HEIGHT_CM             -0.077072  0.036853\n",
      "WEIGHT_KG             -0.129136 -0.177990\n",
      "REACH_INCH1            0.442712  0.213153\n",
      "TOTAL_AT_FIGHT        -0.042381 -0.004417\n",
      "WINRATIO_AT_FIGHT      0.821798 -1.153909\n",
      "STRAVG_AT_FIGHT        0.027499 -0.004146\n",
      "TDAVG_AT_FIGHT         0.030229  0.566931\n",
      "SUBAVG_AT_FIGHT       -0.566661  0.458159\n",
      "PASSAVG_AT_FIGHT      -0.167043 -0.164581\n",
      "AGE_DIFF              -0.055160  0.064238\n",
      "HEIGHT_DIFF            0.044238 -0.058666\n",
      "WEIGHT_DIFF            0.152520  0.148751\n",
      "EXP_DIFF               0.024802  0.057812\n",
      "STRAVG_AT_FIGHT_DIFF   0.004911  0.005551\n",
      "TDAVG_AT_FIGHT_DIFF   -0.005490 -0.157493\n",
      "SUBAVG_AT_FIGHT_DIFF   0.390335 -0.058658\n",
      "PASSAVG_AT_FIGHT_DIFF  0.166642  0.221194\n",
      "WINRATIO_DIFF         -2.392443 -0.585546\n",
      "REACH_DIFF1           -0.341368 -0.103744\n",
      "                          MNLogit Regression Results                          \n",
      "==============================================================================\n",
      "Dep. Variable:                METHOD1   No. Observations:                  369\n",
      "Model:                        MNLogit   Df Residuals:                      325\n",
      "Method:                           MLE   Df Model:                           42\n",
      "Date:                Mon, 23 May 2016   Pseudo R-squ.:                  0.5215\n",
      "Time:                        17:23:42   Log-Likelihood:                -174.52\n",
      "converged:                       True   LL-Null:                       -364.75\n",
      "                                        LLR p-value:                 4.256e-56\n",
      "=========================================================================================\n",
      "            METHOD1=1       coef    std err          z      P>|z|      [95.0% Conf. Int.]\n",
      "-----------------------------------------------------------------------------------------\n",
      "MID                       0.2629      0.102      2.584      0.010         0.063     0.462\n",
      "TOTAL_INSECONDS          -0.0148      0.002     -8.340      0.000        -0.018    -0.011\n",
      "AGE_AT_FIGHT             -0.0509      0.084     -0.609      0.543        -0.215     0.113\n",
      "HEIGHT_CM                -0.0771      0.073     -1.049      0.294        -0.221     0.067\n",
      "WEIGHT_KG                -0.1291      0.101     -1.277      0.202        -0.327     0.069\n",
      "REACH_INCH1               0.4427      0.185      2.390      0.017         0.080     0.806\n",
      "TOTAL_AT_FIGHT           -0.0424      0.087     -0.485      0.628        -0.214     0.129\n",
      "WINRATIO_AT_FIGHT         0.8218      1.111      0.739      0.460        -1.356     3.000\n",
      "STRAVG_AT_FIGHT           0.0275      0.019      1.411      0.158        -0.011     0.066\n",
      "TDAVG_AT_FIGHT            0.0302      0.379      0.080      0.936        -0.713     0.773\n",
      "SUBAVG_AT_FIGHT          -0.5667      0.601     -0.942      0.346        -1.745     0.612\n",
      "PASSAVG_AT_FIGHT         -0.1670      0.322     -0.518      0.604        -0.799     0.465\n",
      "AGE_DIFF                 -0.0552      0.070     -0.791      0.429        -0.192     0.082\n",
      "HEIGHT_DIFF               0.0442      0.058      0.769      0.442        -0.069     0.157\n",
      "WEIGHT_DIFF               0.1525      0.112      1.362      0.173        -0.067     0.372\n",
      "EXP_DIFF                  0.0248      0.067      0.369      0.712        -0.107     0.156\n",
      "STRAVG_AT_FIGHT_DIFF      0.0049      0.015      0.338      0.735        -0.024     0.033\n",
      "TDAVG_AT_FIGHT_DIFF      -0.0055      0.287     -0.019      0.985        -0.567     0.556\n",
      "SUBAVG_AT_FIGHT_DIFF      0.3903      0.423      0.923      0.356        -0.438     1.219\n",
      "PASSAVG_AT_FIGHT_DIFF     0.1666      0.232      0.720      0.472        -0.287     0.621\n",
      "WINRATIO_DIFF            -2.3924      0.917     -2.608      0.009        -4.190    -0.595\n",
      "REACH_DIFF1              -0.3414      0.128     -2.669      0.008        -0.592    -0.091\n",
      "-----------------------------------------------------------------------------------------\n",
      "            METHOD1=2       coef    std err          z      P>|z|      [95.0% Conf. Int.]\n",
      "-----------------------------------------------------------------------------------------\n",
      "MID                       0.3327      0.095      3.508      0.000         0.147     0.519\n",
      "TOTAL_INSECONDS          -0.0124      0.002     -7.302      0.000        -0.016    -0.009\n",
      "AGE_AT_FIGHT             -0.1114      0.078     -1.434      0.152        -0.264     0.041\n",
      "HEIGHT_CM                 0.0369      0.069      0.534      0.594        -0.098     0.172\n",
      "WEIGHT_KG                -0.1780      0.095     -1.883      0.060        -0.363     0.007\n",
      "REACH_INCH1               0.2132      0.175      1.219      0.223        -0.130     0.556\n",
      "TOTAL_AT_FIGHT           -0.0044      0.080     -0.056      0.956        -0.160     0.151\n",
      "WINRATIO_AT_FIGHT        -1.1539      1.002     -1.151      0.250        -3.118     0.811\n",
      "STRAVG_AT_FIGHT          -0.0041      0.018     -0.236      0.813        -0.039     0.030\n",
      "TDAVG_AT_FIGHT            0.5669      0.346      1.639      0.101        -0.111     1.245\n",
      "SUBAVG_AT_FIGHT           0.4582      0.498      0.920      0.358        -0.518     1.434\n",
      "PASSAVG_AT_FIGHT         -0.1646      0.280     -0.588      0.557        -0.713     0.384\n",
      "AGE_DIFF                  0.0642      0.064      1.006      0.314        -0.061     0.189\n",
      "HEIGHT_DIFF              -0.0587      0.055     -1.070      0.285        -0.166     0.049\n",
      "WEIGHT_DIFF               0.1488      0.106      1.404      0.160        -0.059     0.356\n",
      "EXP_DIFF                  0.0578      0.064      0.903      0.367        -0.068     0.183\n",
      "STRAVG_AT_FIGHT_DIFF      0.0056      0.012      0.469      0.639        -0.018     0.029\n",
      "TDAVG_AT_FIGHT_DIFF      -0.1575      0.257     -0.612      0.541        -0.662     0.347\n",
      "SUBAVG_AT_FIGHT_DIFF     -0.0587      0.353     -0.166      0.868        -0.751     0.634\n",
      "PASSAVG_AT_FIGHT_DIFF     0.2212      0.206      1.076      0.282        -0.182     0.624\n",
      "WINRATIO_DIFF            -0.5855      0.789     -0.742      0.458        -2.132     0.961\n",
      "REACH_DIFF1              -0.1037      0.123     -0.845      0.398        -0.344     0.137\n",
      "=========================================================================================\n"
     ]
    },
    {
     "data": {
      "image/png": "[encoded data removed]",
      "text/plain": [
       "<matplotlib.figure.Figure at 0x1157043d0>"
      ]
     },
     "metadata": {},
     "output_type": "display_data"
    },
    {
     "name": "stdout",
     "output_type": "stream",
     "text": [
      "[[ 0.07875979  0.01811827  0.90312193]]\n"
     ]
    }
   ],
   "source": [
    "# \"Light\" Win-Type Model\n",
    "\n",
    "CLASS = 'Flyweight','Bantamweight','Featherweight',\n",
    "feature_cols = UFC1b[(UFC1b.WEIGHT_CLASS.isin(CLASS))].iloc[:,[2,6,9,10,11,13,17,18,19,20,21,22,23,24,25,27,28,29,30,31,32,34]]\n",
    "X = feature_cols\n",
    "y = UFC1b[(UFC1b.WEIGHT_CLASS.isin(CLASS))].METHOD1\n",
    "\n",
    "#split the data into training and testing sets\n",
    "from sklearn.cross_validation import train_test_split\n",
    "X_train, X_test, y_train, y_test = train_test_split(X, y, random_state=42)\n",
    "\n",
    "#Try using statsmodel instead\n",
    "import statsmodels.api as sm\n",
    "mlogit_mod = sm.MNLogit(y_train, X_train)\n",
    "mlogit_res = mlogit_mod.fit()\n",
    "print(mlogit_res.params)\n",
    "print(mlogit_res.summary())\n",
    "\n",
    "#regularised\n",
    "#alpha = 10 * np.ones((mlogit_mod.K, mlogit_mod.J - 1))\n",
    "#alpha[-1, :] = 0\n",
    "#mlogit_mod2 = sm.MNLogit(y_train, X_train)\n",
    "#mlogit_l1_res = mlogit_mod2.fit_regularized(method='l1',alpha=alpha)\n",
    "\n",
    "#make predictions on testing set\n",
    "y_pred_class = mlogit_res.predict(X_train)\n",
    "plt.hist(y_pred_class)\n",
    "plt.xlabel('Predicted Probability of each Method of Win')\n",
    "plt.ylabel('Frequency')\n",
    "plt.show()\n",
    "\n",
    "print(mlogit_res.predict([10,600,25,185,75,70,10,0.8,2,2,2.1,1,-3,10,2,5,1,1,1,1,0.4,10]))"
   ]
  },
  {
   "cell_type": "code",
   "execution_count": 137,
   "metadata": {
    "collapsed": false
   },
   "outputs": [
    {
     "data": {
      "text/html": [
       "<div>\n",
       "<table border=\"1\" class=\"dataframe\">\n",
       "  <thead>\n",
       "    <tr style=\"text-align: right;\">\n",
       "      <th></th>\n",
       "      <th>0</th>\n",
       "      <th>1</th>\n",
       "    </tr>\n",
       "  </thead>\n",
       "  <tbody>\n",
       "    <tr>\n",
       "      <th>MID</th>\n",
       "      <td>0.262903</td>\n",
       "      <td>0.332740</td>\n",
       "    </tr>\n",
       "    <tr>\n",
       "      <th>TOTAL_INSECONDS</th>\n",
       "      <td>-0.014775</td>\n",
       "      <td>-0.012414</td>\n",
       "    </tr>\n",
       "    <tr>\n",
       "      <th>AGE_AT_FIGHT</th>\n",
       "      <td>-0.050865</td>\n",
       "      <td>-0.111388</td>\n",
       "    </tr>\n",
       "    <tr>\n",
       "      <th>HEIGHT_CM</th>\n",
       "      <td>-0.077072</td>\n",
       "      <td>0.036853</td>\n",
       "    </tr>\n",
       "    <tr>\n",
       "      <th>WEIGHT_KG</th>\n",
       "      <td>-0.129136</td>\n",
       "      <td>-0.177990</td>\n",
       "    </tr>\n",
       "    <tr>\n",
       "      <th>REACH_INCH1</th>\n",
       "      <td>0.442712</td>\n",
       "      <td>0.213153</td>\n",
       "    </tr>\n",
       "    <tr>\n",
       "      <th>TOTAL_AT_FIGHT</th>\n",
       "      <td>-0.042381</td>\n",
       "      <td>-0.004417</td>\n",
       "    </tr>\n",
       "    <tr>\n",
       "      <th>WINRATIO_AT_FIGHT</th>\n",
       "      <td>0.821798</td>\n",
       "      <td>-1.153909</td>\n",
       "    </tr>\n",
       "    <tr>\n",
       "      <th>STRAVG_AT_FIGHT</th>\n",
       "      <td>0.027499</td>\n",
       "      <td>-0.004146</td>\n",
       "    </tr>\n",
       "    <tr>\n",
       "      <th>TDAVG_AT_FIGHT</th>\n",
       "      <td>0.030229</td>\n",
       "      <td>0.566931</td>\n",
       "    </tr>\n",
       "    <tr>\n",
       "      <th>SUBAVG_AT_FIGHT</th>\n",
       "      <td>-0.566661</td>\n",
       "      <td>0.458159</td>\n",
       "    </tr>\n",
       "    <tr>\n",
       "      <th>PASSAVG_AT_FIGHT</th>\n",
       "      <td>-0.167043</td>\n",
       "      <td>-0.164581</td>\n",
       "    </tr>\n",
       "    <tr>\n",
       "      <th>AGE_DIFF</th>\n",
       "      <td>-0.055160</td>\n",
       "      <td>0.064238</td>\n",
       "    </tr>\n",
       "    <tr>\n",
       "      <th>HEIGHT_DIFF</th>\n",
       "      <td>0.044238</td>\n",
       "      <td>-0.058666</td>\n",
       "    </tr>\n",
       "    <tr>\n",
       "      <th>WEIGHT_DIFF</th>\n",
       "      <td>0.152520</td>\n",
       "      <td>0.148751</td>\n",
       "    </tr>\n",
       "    <tr>\n",
       "      <th>EXP_DIFF</th>\n",
       "      <td>0.024802</td>\n",
       "      <td>0.057812</td>\n",
       "    </tr>\n",
       "    <tr>\n",
       "      <th>STRAVG_AT_FIGHT_DIFF</th>\n",
       "      <td>0.004911</td>\n",
       "      <td>0.005551</td>\n",
       "    </tr>\n",
       "    <tr>\n",
       "      <th>TDAVG_AT_FIGHT_DIFF</th>\n",
       "      <td>-0.005490</td>\n",
       "      <td>-0.157493</td>\n",
       "    </tr>\n",
       "    <tr>\n",
       "      <th>SUBAVG_AT_FIGHT_DIFF</th>\n",
       "      <td>0.390335</td>\n",
       "      <td>-0.058658</td>\n",
       "    </tr>\n",
       "    <tr>\n",
       "      <th>PASSAVG_AT_FIGHT_DIFF</th>\n",
       "      <td>0.166642</td>\n",
       "      <td>0.221194</td>\n",
       "    </tr>\n",
       "    <tr>\n",
       "      <th>WINRATIO_DIFF</th>\n",
       "      <td>-2.392443</td>\n",
       "      <td>-0.585546</td>\n",
       "    </tr>\n",
       "    <tr>\n",
       "      <th>REACH_DIFF1</th>\n",
       "      <td>-0.341368</td>\n",
       "      <td>-0.103744</td>\n",
       "    </tr>\n",
       "  </tbody>\n",
       "</table>\n",
       "</div>"
      ],
      "text/plain": [
       "                              0         1\n",
       "MID                    0.262903  0.332740\n",
       "TOTAL_INSECONDS       -0.014775 -0.012414\n",
       "AGE_AT_FIGHT          -0.050865 -0.111388\n",
       "HEIGHT_CM             -0.077072  0.036853\n",
       "WEIGHT_KG             -0.129136 -0.177990\n",
       "REACH_INCH1            0.442712  0.213153\n",
       "TOTAL_AT_FIGHT        -0.042381 -0.004417\n",
       "WINRATIO_AT_FIGHT      0.821798 -1.153909\n",
       "STRAVG_AT_FIGHT        0.027499 -0.004146\n",
       "TDAVG_AT_FIGHT         0.030229  0.566931\n",
       "SUBAVG_AT_FIGHT       -0.566661  0.458159\n",
       "PASSAVG_AT_FIGHT      -0.167043 -0.164581\n",
       "AGE_DIFF              -0.055160  0.064238\n",
       "HEIGHT_DIFF            0.044238 -0.058666\n",
       "WEIGHT_DIFF            0.152520  0.148751\n",
       "EXP_DIFF               0.024802  0.057812\n",
       "STRAVG_AT_FIGHT_DIFF   0.004911  0.005551\n",
       "TDAVG_AT_FIGHT_DIFF   -0.005490 -0.157493\n",
       "SUBAVG_AT_FIGHT_DIFF   0.390335 -0.058658\n",
       "PASSAVG_AT_FIGHT_DIFF  0.166642  0.221194\n",
       "WINRATIO_DIFF         -2.392443 -0.585546\n",
       "REACH_DIFF1           -0.341368 -0.103744"
      ]
     },
     "execution_count": 137,
     "metadata": {},
     "output_type": "execute_result"
    }
   ],
   "source": [
    "mlogit_res.params"
   ]
  }
 ],
 "metadata": {
  "kernelspec": {
   "display_name": "Python 2",
   "language": "python",
   "name": "python2"
  },
  "language_info": {
   "codemirror_mode": {
    "name": "ipython",
    "version": 2
   },
   "file_extension": ".py",
   "mimetype": "text/x-python",
   "name": "python",
   "nbconvert_exporter": "python",
   "pygments_lexer": "ipython2",
   "version": "2.7.11"
  }
 },
 "nbformat": 4,
 "nbformat_minor": 0
}
