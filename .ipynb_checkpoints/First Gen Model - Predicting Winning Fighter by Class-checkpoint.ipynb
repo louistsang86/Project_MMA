{
 "cells": [
  {
   "cell_type": "code",
   "execution_count": 23,
   "metadata": {
    "collapsed": false
   },
   "outputs": [],
   "source": [
    "%matplotlib inline\n",
    "import pandas as pd\n",
    "import numpy as np\n",
    "import matplotlib.pyplot as plt\n",
    "import matplotlib.cm as cm\n",
    "import seaborn as sns\n",
    "import statsmodels.formula.api as smf\n",
    "from sklearn import metrics\n",
    "plt.style.use('ggplot') # This styles the graphs in a nicer format\n",
    "\n",
    "# this allows plots to appear directly in the notebook\n",
    "%matplotlib inline\n",
    "\n",
    "import statsmodels.formula.api as smf"
   ]
  },
  {
   "cell_type": "code",
   "execution_count": 31,
   "metadata": {
    "collapsed": false,
    "scrolled": false
   },
   "outputs": [
    {
     "name": "stdout",
     "output_type": "stream",
     "text": [
      "Orthodox       5338\n",
      "Southpaw       1350\n",
      "Switch          161\n",
      "Open Stance      24\n",
      "Sideways          5\n",
      "Name: STANCE, dtype: int64\n",
      "FIGHT_ORDER                 int64\n",
      "KEY                        object\n",
      "ROUND_FORMAT               object\n",
      "EVENT_TYPE                 object\n",
      "EVENT_NAME                 object\n",
      "EVENT_YEAR                  int64\n",
      "EVENT_MONTH                 int64\n",
      "EVENT_DAY                   int64\n",
      "LOCATION_COUNTRY           object\n",
      "LOCATION_CITY              object\n",
      "VENUE                      object\n",
      "ATTENDANCE                float64\n",
      "MAIN_FIGHT                 object\n",
      "MID                         int64\n",
      "WEIGHT_CLASS               object\n",
      "REF                        object\n",
      "METHOD                     object\n",
      "METHOD_D                   object\n",
      "ROUND                     float64\n",
      "FINISH_ROUND_MIN          float64\n",
      "FINISH_ROUND_SEC          float64\n",
      "FINISH_ROUND_INSECONDS    float64\n",
      "TOTAL_INSECONDS           float64\n",
      "FIGHTER_NAME               object\n",
      "FIGHER_NO                  object\n",
      "OUTCOME                    object\n",
      "FIGHTER_ID                  int64\n",
      "STR                         int64\n",
      "TD                          int64\n",
      "SUB                         int64\n",
      "                           ...   \n",
      "REACH_INCH1               float64\n",
      "STANCE                     object\n",
      "WIN_AT_FIGHT                int64\n",
      "NOTWIN_AT_FIGHT             int64\n",
      "TOTAL_AT_FIGHT              int64\n",
      "WINRATIO_AT_FIGHT         float64\n",
      "STRAVG_AT_FIGHT           float64\n",
      "TDAVG_AT_FIGHT            float64\n",
      "SUBAVG_AT_FIGHT           float64\n",
      "PASSAVG_AT_FIGHT          float64\n",
      "AGE_DIFF                  float64\n",
      "HEIGHT_DIFF               float64\n",
      "WEIGHT_DIFF               float64\n",
      "REACH_DIFF                float64\n",
      "EXP_DIFF                    int64\n",
      "STRAVG_AT_FIGHT_DIFF      float64\n",
      "TDAVG_AT_FIGHT_DIFF       float64\n",
      "SUBAVG_AT_FIGHT_DIFF      float64\n",
      "PASSAVG_AT_FIGHT_DIFF     float64\n",
      "WINRATIO_DIFF             float64\n",
      "STANCE_DIFF                object\n",
      "REACH_DIFF1               float64\n",
      "OUTCOME1                    int64\n",
      "STANCE1                   float64\n",
      "STANCE_DIFF1              float64\n",
      "STANCE_Orthodox           float64\n",
      "STANCE_Sideways           float64\n",
      "STANCE_Southpaw           float64\n",
      "STANCE_Switch             float64\n",
      "STANCE2                   float64\n",
      "dtype: object\n",
      "(7138, 70)\n"
     ]
    }
   ],
   "source": [
    "UFC = pd.read_csv('Data/2a) UFC Fights.csv')\n",
    "\n",
    "#make sure theres no space in the columns\n",
    "UFC.columns = [c.replace(' ', '_') for c in UFC.columns]\n",
    "\n",
    "#change outcome win = 1, everything else 0\n",
    "UFC['OUTCOME1'] = UFC.OUTCOME.map({'win':1, 'loss':0, 'draw':0, 'NC':0})\n",
    "\n",
    "#change stance and stance_diff into 1,0\n",
    "#check out what stances there are\n",
    "print UFC.STANCE.value_counts()\n",
    "#lets just put orthodox as 1, other as 0\n",
    "UFC['STANCE1'] = UFC.STANCE.map({'Orthodox':1, 'Southpaw':0, 'Switch':0, 'Open Stance':0,'Sideways':0})\n",
    "#same stance = 0\n",
    "UFC['STANCE_DIFF1'] = UFC.STANCE_DIFF.map({'Same Stance':0, 'Different Stance':1})\n",
    "\n",
    "#Try using more stance information\n",
    "# create a DataFrame with the four dummy variable columns\n",
    "STANCE_dummies = pd.get_dummies(UFC.STANCE, prefix='STANCE').iloc[:, 1:]\n",
    "#STANCE_dummies\n",
    "UFC = pd.concat([UFC, STANCE_dummies], axis=1)\n",
    "\n",
    "#Stance information works well, but it looksl ike southpaw is a great advantage. Group observations into southpaw = 1\n",
    "#Other = 0\n",
    "UFC['STANCE2'] = UFC.STANCE.map({'Orthodox':0, 'Southpaw':1, 'Switch':0, 'Open Stance':0,'Sideways':0})\n",
    "\n",
    "#print column names and type\n",
    "print UFC.dtypes\n",
    "print UFC.shape"
   ]
  },
  {
   "cell_type": "code",
   "execution_count": 32,
   "metadata": {
    "collapsed": false
   },
   "outputs": [
    {
     "name": "stdout",
     "output_type": "stream",
     "text": [
      "Lightweight            1434\n",
      "Welterweight           1400\n",
      "Middleweight           1094\n",
      "Light Heavyweight       726\n",
      "Heavyweight             676\n",
      "Featherweight           546\n",
      "Bantamweight            434\n",
      "Flyweight               212\n",
      "Womens Bantamweight     110\n",
      "Womens Strawweight       76\n",
      "Catch Weight             28\n",
      "Super Heavyweight         2\n",
      "Name: WEIGHT_CLASS, dtype: int64\n",
      "Lightweight          1434\n",
      "Welterweight         1400\n",
      "Middleweight         1094\n",
      "Light Heavyweight     726\n",
      "Heavyweight           676\n",
      "Featherweight         546\n",
      "Bantamweight          434\n",
      "Flyweight             212\n",
      "Name: WEIGHT_CLASS, dtype: int64\n"
     ]
    }
   ],
   "source": [
    "#Add Business Filters\n",
    "#Exclude fights where it is single round only\n",
    "UFC1=UFC[(UFC.ROUND_FORMAT == 'MULTI-ROUND')]\n",
    "#see how many fights are there for each weight class\n",
    "print UFC1.WEIGHT_CLASS.value_counts()\n",
    "#from initial investigation we will exclude Women's classes, Catch Weight and Super Heavyweight\n",
    "UFC1=UFC[(UFC.ROUND_FORMAT == 'MULTI-ROUND')&(-UFC.WEIGHT_CLASS.isin(['Super Heavyweight','Catch Weight','Womens Bantamweight','Womens Strawweight']))&(UFC.WEIGHT_CLASS.notnull())]\n",
    "print UFC1.WEIGHT_CLASS.value_counts()"
   ]
  },
  {
   "cell_type": "code",
   "execution_count": 35,
   "metadata": {
    "collapsed": false
   },
   "outputs": [
    {
     "name": "stdout",
     "output_type": "stream",
     "text": [
      "FIGHT_ORDER                  0\n",
      "KEY                          0\n",
      "ROUND_FORMAT                 0\n",
      "EVENT_TYPE                   0\n",
      "EVENT_NAME                   0\n",
      "EVENT_YEAR                   0\n",
      "EVENT_MONTH                  0\n",
      "EVENT_DAY                    0\n",
      "LOCATION_COUNTRY             0\n",
      "LOCATION_CITY                0\n",
      "VENUE                        0\n",
      "ATTENDANCE                 280\n",
      "MAIN_FIGHT                   0\n",
      "MID                          0\n",
      "WEIGHT_CLASS                 0\n",
      "REF                        618\n",
      "METHOD                       0\n",
      "METHOD_D                    22\n",
      "ROUND                        0\n",
      "FINISH_ROUND_MIN             0\n",
      "FINISH_ROUND_SEC             0\n",
      "FINISH_ROUND_INSECONDS       0\n",
      "TOTAL_INSECONDS              0\n",
      "FIGHTER_NAME                 0\n",
      "FIGHER_NO                    0\n",
      "OUTCOME                      0\n",
      "FIGHTER_ID                   0\n",
      "STR                          0\n",
      "TD                           0\n",
      "SUB                          0\n",
      "                          ... \n",
      "REACH_INCH1                 23\n",
      "STANCE                     160\n",
      "WIN_AT_FIGHT                 0\n",
      "NOTWIN_AT_FIGHT              0\n",
      "TOTAL_AT_FIGHT               0\n",
      "WINRATIO_AT_FIGHT            0\n",
      "STRAVG_AT_FIGHT              0\n",
      "TDAVG_AT_FIGHT               0\n",
      "SUBAVG_AT_FIGHT              0\n",
      "PASSAVG_AT_FIGHT             0\n",
      "AGE_DIFF                   366\n",
      "HEIGHT_DIFF                 48\n",
      "WEIGHT_DIFF                 42\n",
      "REACH_DIFF                1100\n",
      "EXP_DIFF                     0\n",
      "STRAVG_AT_FIGHT_DIFF         0\n",
      "TDAVG_AT_FIGHT_DIFF          0\n",
      "SUBAVG_AT_FIGHT_DIFF         0\n",
      "PASSAVG_AT_FIGHT_DIFF        0\n",
      "WINRATIO_DIFF                0\n",
      "STANCE_DIFF                278\n",
      "REACH_DIFF1                 44\n",
      "OUTCOME1                     0\n",
      "STANCE1                    160\n",
      "STANCE_DIFF1               278\n",
      "STANCE_Orthodox              0\n",
      "STANCE_Sideways              0\n",
      "STANCE_Southpaw              0\n",
      "STANCE_Switch                0\n",
      "STANCE2                    160\n",
      "dtype: int64\n",
      "(6522, 70)\n",
      "(3520, 70)\n"
     ]
    },
    {
     "data": {
      "text/html": [
       "<table class=\"simpletable\">\n",
       "<caption>OLS Regression Results</caption>\n",
       "<tr>\n",
       "  <th>Dep. Variable:</th>       <td>REACH_INCH</td>    <th>  R-squared:         </th> <td>   0.741</td> \n",
       "</tr>\n",
       "<tr>\n",
       "  <th>Model:</th>                   <td>OLS</td>       <th>  Adj. R-squared:    </th> <td>   0.741</td> \n",
       "</tr>\n",
       "<tr>\n",
       "  <th>Method:</th>             <td>Least Squares</td>  <th>  F-statistic:       </th> <td>1.678e+04</td>\n",
       "</tr>\n",
       "<tr>\n",
       "  <th>Date:</th>             <td>Sun, 15 May 2016</td> <th>  Prob (F-statistic):</th>  <td>  0.00</td>  \n",
       "</tr>\n",
       "<tr>\n",
       "  <th>Time:</th>                 <td>10:17:37</td>     <th>  Log-Likelihood:    </th> <td> -11945.</td> \n",
       "</tr>\n",
       "<tr>\n",
       "  <th>No. Observations:</th>      <td>  5880</td>      <th>  AIC:               </th> <td>2.389e+04</td>\n",
       "</tr>\n",
       "<tr>\n",
       "  <th>Df Residuals:</th>          <td>  5878</td>      <th>  BIC:               </th> <td>2.391e+04</td>\n",
       "</tr>\n",
       "<tr>\n",
       "  <th>Df Model:</th>              <td>     1</td>      <th>                     </th>     <td> </td>    \n",
       "</tr>\n",
       "<tr>\n",
       "  <th>Covariance Type:</th>      <td>nonrobust</td>    <th>                     </th>     <td> </td>    \n",
       "</tr>\n",
       "</table>\n",
       "<table class=\"simpletable\">\n",
       "<tr>\n",
       "      <td></td>         <th>coef</th>     <th>std err</th>      <th>t</th>      <th>P>|t|</th> <th>[95.0% Conf. Int.]</th> \n",
       "</tr>\n",
       "<tr>\n",
       "  <th>Intercept</th> <td>    1.4766</td> <td>    0.550</td> <td>    2.683</td> <td> 0.007</td> <td>    0.398     2.555</td>\n",
       "</tr>\n",
       "<tr>\n",
       "  <th>HEIGHT_CM</th> <td>    0.3957</td> <td>    0.003</td> <td>  129.555</td> <td> 0.000</td> <td>    0.390     0.402</td>\n",
       "</tr>\n",
       "</table>\n",
       "<table class=\"simpletable\">\n",
       "<tr>\n",
       "  <th>Omnibus:</th>       <td>73.880</td> <th>  Durbin-Watson:     </th> <td>   1.951</td>\n",
       "</tr>\n",
       "<tr>\n",
       "  <th>Prob(Omnibus):</th> <td> 0.000</td> <th>  Jarque-Bera (JB):  </th> <td>  77.517</td>\n",
       "</tr>\n",
       "<tr>\n",
       "  <th>Skew:</th>          <td> 0.260</td> <th>  Prob(JB):          </th> <td>1.47e-17</td>\n",
       "</tr>\n",
       "<tr>\n",
       "  <th>Kurtosis:</th>      <td> 3.213</td> <th>  Cond. No.          </th> <td>4.12e+03</td>\n",
       "</tr>\n",
       "</table>"
      ],
      "text/plain": [
       "<class 'statsmodels.iolib.summary.Summary'>\n",
       "\"\"\"\n",
       "                            OLS Regression Results                            \n",
       "==============================================================================\n",
       "Dep. Variable:             REACH_INCH   R-squared:                       0.741\n",
       "Model:                            OLS   Adj. R-squared:                  0.741\n",
       "Method:                 Least Squares   F-statistic:                 1.678e+04\n",
       "Date:                Sun, 15 May 2016   Prob (F-statistic):               0.00\n",
       "Time:                        10:17:37   Log-Likelihood:                -11945.\n",
       "No. Observations:                5880   AIC:                         2.389e+04\n",
       "Df Residuals:                    5878   BIC:                         2.391e+04\n",
       "Df Model:                           1                                         \n",
       "Covariance Type:            nonrobust                                         \n",
       "==============================================================================\n",
       "                 coef    std err          t      P>|t|      [95.0% Conf. Int.]\n",
       "------------------------------------------------------------------------------\n",
       "Intercept      1.4766      0.550      2.683      0.007         0.398     2.555\n",
       "HEIGHT_CM      0.3957      0.003    129.555      0.000         0.390     0.402\n",
       "==============================================================================\n",
       "Omnibus:                       73.880   Durbin-Watson:                   1.951\n",
       "Prob(Omnibus):                  0.000   Jarque-Bera (JB):               77.517\n",
       "Skew:                           0.260   Prob(JB):                     1.47e-17\n",
       "Kurtosis:                       3.213   Cond. No.                     4.12e+03\n",
       "==============================================================================\n",
       "\n",
       "Warnings:\n",
       "[1] Standard Errors assume that the covariance matrix of the errors is correctly specified.\n",
       "[2] The condition number is large, 4.12e+03. This might indicate that there are\n",
       "strong multicollinearity or other numerical problems.\n",
       "\"\"\""
      ]
     },
     "execution_count": 35,
     "metadata": {},
     "output_type": "execute_result"
    },
    {
     "data": {
      "image/png": "[encoded data removed]",
      "text/plain": [
       "<matplotlib.figure.Figure at 0x114ffe6d0>"
      ]
     },
     "metadata": {},
     "output_type": "display_data"
    }
   ],
   "source": [
    "#check out missing values\n",
    "print UFC1.isnull().sum()\n",
    "\n",
    "#we'll need to see if we want to fill the missing values or just exclude them\n",
    "#Lets see how much data we exclude by class if we exclude all observations with any missing values\n",
    "UFC1a = UFC1.dropna()\n",
    "print UFC1.shape\n",
    "print UFC1a.shape\n",
    "\n",
    "#roughly we've dropped half the observations - let's check by weight class but first..\n",
    "#check if nickname means anything, otherwise let's drop as it makes up most of the missing\n",
    "UFC1.NICK.isnull().sum()\n",
    "#print UFC1[(UFC1.NICK.isnull())&(UFC1.OUTCOME=='win')].shape\n",
    "#print UFC1[(UFC1.NICK.notnull())&(UFC1.OUTCOME=='win')].shape\n",
    "#seems irrelevant, I'm going to remove the column and exclude again to increase data points\n",
    "\n",
    "#looking at all the diff variables only, reach is the one we should probably try to fill. Inferring reach from height\n",
    "#makes the most sense.\n",
    "\n",
    "UFC1.plot(kind='scatter', x='HEIGHT_CM', y='REACH_INCH')\n",
    "# create a fitted model in one line\n",
    "lm = smf.ols(formula='REACH_INCH ~ HEIGHT_CM', data=UFC1).fit()\n",
    "# print the coefficients\n",
    "lm.params\n",
    "lm.summary()"
   ]
  },
  {
   "cell_type": "code",
   "execution_count": 60,
   "metadata": {
    "collapsed": false
   },
   "outputs": [
    {
     "name": "stdout",
     "output_type": "stream",
     "text": [
      "(5942, 13)\n",
      "Lightweight          1330\n",
      "Welterweight         1246\n",
      "Middleweight         1012\n",
      "Light Heavyweight     666\n",
      "Heavyweight           604\n",
      "Featherweight         498\n",
      "Bantamweight          380\n",
      "Flyweight             206\n",
      "Name: WEIGHT_CLASS, dtype: int64\n"
     ]
    }
   ],
   "source": [
    "#drop everything except the variables we want keep - building only a Diff Model\n",
    "#UFC1b = UFC1.drop('NICK', 1)\n",
    "UFC1b = UFC1.iloc[:,[14,50,51,52,54,55,56,57,58,59,61,62,64]]\n",
    "#UFC1b\n",
    "\n",
    "#using reach_diff1 variable instead, which used the linear regression to infer missing reach based on height\n",
    "UFC1b = UFC1b.dropna()\n",
    "print UFC1b.shape\n",
    "\n",
    "#how much remaining by class?\n",
    "print UFC1b.WEIGHT_CLASS.value_counts()"
   ]
  },
  {
   "cell_type": "code",
   "execution_count": 128,
   "metadata": {
    "collapsed": false
   },
   "outputs": [],
   "source": [
    "#CLASS='Flyweight','Bantamweight','Featherweight','Lightweight','Welterweight','Middleweight','Light Heavyweight','Heavyweight'\n",
    "\n",
    "CLASS= 'Flyweight','Bantamweight','Featherweight',\n",
    "#CLASS = 'Lightweight','Welterweight',\n",
    "#CLASS = 'Middleweight','Light Heavyweight','Heavyweight',\n",
    "\n",
    "\n",
    "#All classes\n",
    "#Weight class\tUpper weight limit\n",
    "#Flyweight\t125 lb (56.7 kg; 8.9 st)\n",
    "#Bantamweight\t135 lb (61.2 kg; 9.6 st)\n",
    "#Featherweight\t145 lb (65.8 kg; 10.4 st)\n",
    "#Lightweight\t155 lb (70.3 kg; 11.1 st)\n",
    "#Welterweight\t170 lb (77.1 kg; 12.1 st)\n",
    "#Middleweight\t185 lb (83.9 kg; 13.2 st)\n",
    "#Light Heavyweight\t205 lb (93.0 kg; 14.6 st)\n",
    "#Heavyweight\t265 lb (120.2 kg; 18.9 st)"
   ]
  },
  {
   "cell_type": "code",
   "execution_count": null,
   "metadata": {
    "collapsed": false
   },
   "outputs": [],
   "source": [
    "#lets now have a look at correlation matrix for each class - total one won't mean much \n",
    "#as fighters fight at different weight classes\n",
    "\n",
    "#for each class, look at which variables correlate highest with outcome\n",
    "#use this to build first gen model\n",
    "#we also need to check out if these variables are correlated with each other\n",
    "\n",
    "#Correlation Matrix\n",
    "#CORRSUB = UFC1b[(UFC1b.WEIGHT_CLASS == CLASS)].iloc[:,[35,36,37,38,39,40,41,42,43,44,45,46,47,48,49,50,51,52,53,54,55,56,57,58,59,60,61]]\n",
    "#CORRSUB = UFC1b[(UFC1b.WEIGHT_CLASS.isin(CLASS))].iloc[:,[48,49,50,51,52,53,54,55,56,57,58,59,61]]\n",
    "CORRSUB = UFC1b[(UFC1b.WEIGHT_CLASS.isin(CLASS))]\n",
    "\n",
    "#Just the outcome variable\n",
    "print CORRSUB.corr().OUTCOME1\n",
    "CORRSUB.corr()\n",
    "#CORRSUB.shape"
   ]
  },
  {
   "cell_type": "code",
   "execution_count": null,
   "metadata": {
    "collapsed": false
   },
   "outputs": [],
   "source": [
    "pd.scatter_matrix(CORRSUB, figsize=(15,15))"
   ]
  },
  {
   "cell_type": "code",
   "execution_count": null,
   "metadata": {
    "collapsed": false
   },
   "outputs": [],
   "source": [
    "X.head(5)"
   ]
  },
  {
   "cell_type": "code",
   "execution_count": 129,
   "metadata": {
    "collapsed": false
   },
   "outputs": [
    {
     "name": "stdout",
     "output_type": "stream",
     "text": [
      "0.594095940959\n",
      "[[89 51]\n",
      " [59 72]]\n"
     ]
    },
    {
     "data": {
      "text/plain": [
       "[('AGE_DIFF', -0.073305001632833794),\n",
       " ('HEIGHT_DIFF', -0.051046198639964596),\n",
       " ('WEIGHT_DIFF', 0.046981814594293646),\n",
       " ('EXP_DIFF', 0.014158671449130187),\n",
       " ('STRAVG_AT_FIGHT_DIFF', 0.0060257231139085529),\n",
       " ('TDAVG_AT_FIGHT_DIFF', 0.014824679495235157),\n",
       " ('SUBAVG_AT_FIGHT_DIFF', -0.025803115821318959),\n",
       " ('PASSAVG_AT_FIGHT_DIFF', 0.047231611382667189),\n",
       " ('WINRATIO_DIFF', 0.026639093263859655),\n",
       " ('REACH_DIFF1', 0.015691425298030335),\n",
       " ('STANCE_DIFF1', -0.089126838242632331)]"
      ]
     },
     "execution_count": 129,
     "metadata": {},
     "output_type": "execute_result"
    },
    {
     "data": {
      "image/png": "[encoded data removed]",
      "text/plain": [
       "<matplotlib.figure.Figure at 0x12618dc10>"
      ]
     },
     "metadata": {},
     "output_type": "display_data"
    }
   ],
   "source": [
    "#fit first gen model\n",
    "\n",
    "#Using all\n",
    "#feature_cols = UFC1b[(UFC1b.WEIGHT_CLASS == CLASS)].iloc[:,[35,36,37,38,40,41,42,43,44,45,46,47,\n",
    "#                                                                    48,49,50,51,52,53,54,55,56,57,61]]\n",
    "\n",
    "#using absolute variables only\n",
    "#feature_cols = UFC1b[(UFC1b.WEIGHT_CLASS == CLASS)].iloc[:,[35,36,37,38,40,41,42,43,44,45,46,47]]\n",
    "\n",
    "#using difference variables only\n",
    "#STANCE_DIFF doesn't add much value, but it makes the most sense\n",
    "#feature_cols = UFC1b[(UFC1b.WEIGHT_CLASS.isin(CLASS))].iloc[:,[48,49,50,51,52,53,54,55,56,57]]\n",
    "#feature_cols = UFC1b[(UFC1b.WEIGHT_CLASS.isin(CLASS))].iloc[:,[48,49,50,51,52,53,54,55,56,57,66]]\n",
    "#feature_cols = UFC1b[(UFC1b.WEIGHT_CLASS.isin(CLASS))].iloc[:,[48,49,50,51,52,53,54,55,56,57,62,64,65]]\n",
    "feature_cols = UFC1b[(UFC1b.WEIGHT_CLASS.isin(CLASS))].iloc[:,[1,2,3,4,5,6,7,8,9,10,12]]\n",
    "\n",
    "X = feature_cols\n",
    "y = UFC1b[(UFC1b.WEIGHT_CLASS.isin(CLASS))].OUTCOME1\n",
    "\n",
    "#split the data into training and testing sets\n",
    "from sklearn.cross_validation import train_test_split\n",
    "X_train, X_test, y_train, y_test = train_test_split(X, y, random_state=1)\n",
    "\n",
    "#fit a logistic regression model and examine the coefficients\n",
    "from sklearn.linear_model import LogisticRegression\n",
    "logreg = LogisticRegression()\n",
    "logreg.fit(X_train, y_train)\n",
    "#zip(feature_cols, logreg.coef_[0])\n",
    "\n",
    "#make predictions on testing set and calculate accuracy\n",
    "y_pred_class = logreg.predict(X_test)\n",
    "print metrics.accuracy_score(y_test, y_pred_class)\n",
    "\n",
    "#Confusion Matrix\n",
    "prds = logreg.predict(X)\n",
    "print metrics.confusion_matrix(y_test, y_pred_class)\n",
    "\n",
    "##Top Left: True Negatives \n",
    "##Top Right False Negatives \n",
    "##Bottom Left: False Negatives \n",
    "##Bottom Right: True Positives \n",
    "\n",
    "\n",
    "#predicted probabilities\n",
    "y_pred_prob = logreg.predict_proba(X_test)[:, 1]\n",
    "# plot the predicted probabilities\n",
    "%matplotlib inline\n",
    "import matplotlib.pyplot as plt\n",
    "plt.hist(y_pred_prob)\n",
    "plt.xlabel('Predicted probability of win')\n",
    "plt.ylabel('Frequency')\n",
    "\n",
    "#print the coeff\n",
    "zip(feature_cols, logreg.coef_[0])"
   ]
  },
  {
   "cell_type": "code",
   "execution_count": 123,
   "metadata": {
    "collapsed": false
   },
   "outputs": [
    {
     "name": "stdout",
     "output_type": "stream",
     "text": [
      "[('AGE_DIFF', 0.97593032366552468), ('HEIGHT_DIFF', 0.98935461776961464), ('WEIGHT_DIFF', 1.0010998618433147), ('EXP_DIFF', 1.0054284324150002), ('STRAVG_AT_FIGHT_DIFF', 1.0037634141476357), ('TDAVG_AT_FIGHT_DIFF', 1.0829860267913973), ('SUBAVG_AT_FIGHT_DIFF', 0.82678638713174002), ('PASSAVG_AT_FIGHT_DIFF', 1.0699031477334415), ('WINRATIO_DIFF', 1.6032695582255649), ('REACH_DIFF1', 1.0773861939875591), ('STANCE_DIFF1', 1.0403097394846144)]\n",
      "[ 0.63881457]\n",
      "[ 0.34537844]\n"
     ]
    },
    {
     "name": "stderr",
     "output_type": "stream",
     "text": [
      "/Users/LouisTsang/anaconda/lib/python2.7/site-packages/sklearn/utils/validation.py:386: DeprecationWarning: Passing 1d arrays as data is deprecated in 0.17 and willraise ValueError in 0.19. Reshape your data either using X.reshape(-1, 1) if your data has a single feature or X.reshape(1, -1) if it contains a single sample.\n",
      "  DeprecationWarning)\n",
      "/Users/LouisTsang/anaconda/lib/python2.7/site-packages/sklearn/utils/validation.py:386: DeprecationWarning: Passing 1d arrays as data is deprecated in 0.17 and willraise ValueError in 0.19. Reshape your data either using X.reshape(-1, 1) if your data has a single feature or X.reshape(1, -1) if it contains a single sample.\n",
      "  DeprecationWarning)\n"
     ]
    }
   ],
   "source": [
    "# convert log-odds to odds\n",
    "print zip(feature_cols, np.exp(logreg.coef_[0]))\n",
    "\n",
    "#Test case\n",
    "print logreg.predict_proba([-3, 2, 2, 3, 3, 1,1,1,1, 1 ,1 ])[:, 1]\n",
    "print logreg.predict_proba([+3, -2, -2, -3, -3, -1,-1,-1,-1, -1 ,0])[:, 1]"
   ]
  },
  {
   "cell_type": "code",
   "execution_count": 133,
   "metadata": {
    "collapsed": false
   },
   "outputs": [
    {
     "name": "stdout",
     "output_type": "stream",
     "text": [
      "[ 0.57798165  0.55045872  0.59633028  0.50458716  0.59633028  0.66055046\n",
      "  0.56481481  0.53703704  0.64485981  0.59813084]\n",
      "0.583108103817\n"
     ]
    }
   ],
   "source": [
    "from sklearn.linear_model import LogisticRegression\n",
    "from sklearn.cross_validation import train_test_split\n",
    "from sklearn import metrics\n",
    "from sklearn.cross_validation import cross_val_score\n",
    "\n",
    "# evaluate the model using 10-fold cross-validation\n",
    "scores = cross_val_score(LogisticRegression(), X, y, scoring='accuracy', cv=10)\n",
    "print scores\n",
    "print scores.mean()"
   ]
  },
  {
   "cell_type": "code",
   "execution_count": null,
   "metadata": {
    "collapsed": true
   },
   "outputs": [],
   "source": []
  }
 ],
 "metadata": {
  "kernelspec": {
   "display_name": "Python 2",
   "language": "python",
   "name": "python2"
  },
  "language_info": {
   "codemirror_mode": {
    "name": "ipython",
    "version": 2
   },
   "file_extension": ".py",
   "mimetype": "text/x-python",
   "name": "python",
   "nbconvert_exporter": "python",
   "pygments_lexer": "ipython2",
   "version": "2.7.11"
  }
 },
 "nbformat": 4,
 "nbformat_minor": 0
}
