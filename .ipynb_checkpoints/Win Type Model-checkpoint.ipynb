{
 "cells": [
  {
   "cell_type": "code",
   "execution_count": 1,
   "metadata": {
    "collapsed": true
   },
   "outputs": [],
   "source": [
    "%matplotlib inline\n",
    "import pandas as pd\n",
    "import numpy as np\n",
    "import matplotlib.pyplot as plt\n",
    "import matplotlib.cm as cm\n",
    "import seaborn as sns\n",
    "import statsmodels.formula.api as smf\n",
    "from sklearn import metrics\n",
    "import statsmodels.formula.api as smf\n",
    "plt.style.use('ggplot') # This styles the graphs in a nicer format"
   ]
  },
  {
   "cell_type": "code",
   "execution_count": 2,
   "metadata": {
    "collapsed": true
   },
   "outputs": [],
   "source": [
    "UFC = pd.read_csv('Data/2a) UFC Fights.csv')\n",
    "\n",
    "#make sure theres no space in the columns\n",
    "UFC.columns = [c.replace(' ', '_') for c in UFC.columns]\n",
    "\n",
    "#change outcome win = 1, everything else 0\n",
    "UFC['OUTCOME1'] = UFC.OUTCOME.map({'win':1, 'loss':0, 'draw':0, 'NC':0})\n",
    "\n",
    "#change stance and stance_diff into 1,0\n",
    "#lets just put orthodox as 1, other as 0\n",
    "UFC['STANCE1'] = UFC.STANCE.map({'Orthodox':1, 'Southpaw':0, 'Switch':0, 'Open Stance':0,'Sideways':0})\n",
    "#same stance = 0\n",
    "UFC['STANCE_DIFF1'] = UFC.STANCE_DIFF.map({'Same Stance':0, 'Different Stance':1})\n",
    "\n",
    "#Try using more stance information\n",
    "# create a DataFrame with the four dummy variable columns\n",
    "STANCE_dummies = pd.get_dummies(UFC.STANCE, prefix='STANCE').iloc[:, 1:]\n",
    "#STANCE_dummies\n",
    "UFC = pd.concat([UFC, STANCE_dummies], axis=1)\n",
    "\n",
    "#Stance information works well, but it looksl ike southpaw is a great advantage. Group observations into southpaw = 1\n",
    "#Other = 0\n",
    "UFC['STANCE2'] = UFC.STANCE.map({'Orthodox':0, 'Southpaw':1, 'Switch':0, 'Open Stance':0,'Sideways':0})"
   ]
  },
  {
   "cell_type": "code",
   "execution_count": 6,
   "metadata": {
    "collapsed": false
   },
   "outputs": [
    {
     "name": "stdout",
     "output_type": "stream",
     "text": [
      "Lightweight          703\n",
      "Welterweight         693\n",
      "Middleweight         542\n",
      "Light Heavyweight    356\n",
      "Heavyweight          333\n",
      "Featherweight        265\n",
      "Bantamweight         211\n",
      "Flyweight            105\n",
      "Name: WEIGHT_CLASS, dtype: int64\n"
     ]
    }
   ],
   "source": [
    "#Add Business Filters - JUST TAKE WIN OBSERVATIONS\n",
    "#Exclude fights where it is single round only\n",
    "UFC1=UFC[(UFC.ROUND_FORMAT == 'MULTI-ROUND')]\n",
    "\n",
    "#see how many fights are there for each weight class\n",
    "#print UFC1.WEIGHT_CLASS.value_counts()\n",
    "\n",
    "#from initial investigation we will exclude Women's classes, Catch Weight and Super Heavyweight\n",
    "UFC1=UFC[(UFC.ROUND_FORMAT == 'MULTI-ROUND')&(UFC.OUTCOME1==1)&(-UFC.WEIGHT_CLASS.isin(['Super Heavyweight','Catch Weight','Womens Bantamweight','Womens Strawweight']))&(UFC.WEIGHT_CLASS.notnull())]\n",
    "print UFC1.WEIGHT_CLASS.value_counts()"
   ]
  },
  {
   "cell_type": "code",
   "execution_count": 113,
   "metadata": {
    "collapsed": false
   },
   "outputs": [
    {
     "name": "stdout",
     "output_type": "stream",
     "text": [
      "(3208, 23)\n",
      "(2899, 23)\n"
     ]
    },
    {
     "data": {
      "image/png": "[encoded data removed]",
      "text/plain": [
       "<matplotlib.figure.Figure at 0x116f34490>"
      ]
     },
     "metadata": {},
     "output_type": "display_data"
    }
   ],
   "source": [
    "#drop everything except the variables we want keep - building only a Diff Model\n",
    "UFC1b = UFC1.iloc[:,[11,12,13,14,16,17,22,25,34,36,37,38,39,40,41,42,43,44,45,46,47,48,49]]\n",
    "print UFC1b.shape\n",
    "#print UFC1b.head(5)\n",
    "#dropping any missing observations\n",
    "UFC1b = UFC1b.dropna()\n",
    "print UFC1b.shape\n",
    "\n",
    "UFC1b['METHOD1'] = UFC.METHOD.map({'Decision':0, 'TKO':1, 'Submission':2, 'KO':1,'DQ':0})\n",
    "UFC1b.METHOD1.hist(by=UFC1b.WEIGHT_CLASS, sharex=True, sharey=True)\n",
    "plt.show()"
   ]
  },
  {
   "cell_type": "code",
   "execution_count": 73,
   "metadata": {
    "collapsed": false
   },
   "outputs": [
    {
     "data": {
      "text/html": [
       "<div>\n",
       "<table border=\"1\" class=\"dataframe\">\n",
       "  <thead>\n",
       "    <tr style=\"text-align: right;\">\n",
       "      <th></th>\n",
       "      <th>MID</th>\n",
       "      <th>TOTAL_INSECONDS</th>\n",
       "      <th>AGE_AT_FIGHT</th>\n",
       "      <th>HEIGHT_CM</th>\n",
       "      <th>WEIGHT_KG</th>\n",
       "      <th>REACH_INCH1</th>\n",
       "      <th>TOTAL_AT_FIGHT</th>\n",
       "      <th>WINRATIO_AT_FIGHT</th>\n",
       "      <th>STRAVG_AT_FIGHT</th>\n",
       "      <th>TDAVG_AT_FIGHT</th>\n",
       "      <th>SUBAVG_AT_FIGHT</th>\n",
       "      <th>PASSAVG_AT_FIGHT</th>\n",
       "    </tr>\n",
       "  </thead>\n",
       "  <tbody>\n",
       "    <tr>\n",
       "      <th>6</th>\n",
       "      <td>10</td>\n",
       "      <td>900</td>\n",
       "      <td>30</td>\n",
       "      <td>167.64</td>\n",
       "      <td>65.77084</td>\n",
       "      <td>66</td>\n",
       "      <td>10</td>\n",
       "      <td>0.700000</td>\n",
       "      <td>46.4</td>\n",
       "      <td>2.900000</td>\n",
       "      <td>1.100000</td>\n",
       "      <td>2.600000</td>\n",
       "    </tr>\n",
       "    <tr>\n",
       "      <th>32</th>\n",
       "      <td>9</td>\n",
       "      <td>900</td>\n",
       "      <td>32</td>\n",
       "      <td>162.56</td>\n",
       "      <td>56.69900</td>\n",
       "      <td>65</td>\n",
       "      <td>12</td>\n",
       "      <td>0.833333</td>\n",
       "      <td>44.0</td>\n",
       "      <td>1.166667</td>\n",
       "      <td>0.333333</td>\n",
       "      <td>2.083333</td>\n",
       "    </tr>\n",
       "    <tr>\n",
       "      <th>42</th>\n",
       "      <td>4</td>\n",
       "      <td>900</td>\n",
       "      <td>24</td>\n",
       "      <td>170.18</td>\n",
       "      <td>56.69900</td>\n",
       "      <td>66</td>\n",
       "      <td>5</td>\n",
       "      <td>0.600000</td>\n",
       "      <td>37.8</td>\n",
       "      <td>3.400000</td>\n",
       "      <td>0.600000</td>\n",
       "      <td>5.000000</td>\n",
       "    </tr>\n",
       "    <tr>\n",
       "      <th>44</th>\n",
       "      <td>3</td>\n",
       "      <td>323</td>\n",
       "      <td>25</td>\n",
       "      <td>172.72</td>\n",
       "      <td>65.77084</td>\n",
       "      <td>69</td>\n",
       "      <td>1</td>\n",
       "      <td>1.000000</td>\n",
       "      <td>15.0</td>\n",
       "      <td>2.000000</td>\n",
       "      <td>0.000000</td>\n",
       "      <td>6.000000</td>\n",
       "    </tr>\n",
       "    <tr>\n",
       "      <th>48</th>\n",
       "      <td>1</td>\n",
       "      <td>900</td>\n",
       "      <td>28</td>\n",
       "      <td>182.88</td>\n",
       "      <td>65.77084</td>\n",
       "      <td>71</td>\n",
       "      <td>3</td>\n",
       "      <td>0.333333</td>\n",
       "      <td>40.0</td>\n",
       "      <td>0.333333</td>\n",
       "      <td>0.333333</td>\n",
       "      <td>0.333333</td>\n",
       "    </tr>\n",
       "  </tbody>\n",
       "</table>\n",
       "</div>"
      ],
      "text/plain": [
       "    MID  TOTAL_INSECONDS  AGE_AT_FIGHT  HEIGHT_CM  WEIGHT_KG  REACH_INCH1  \\\n",
       "6    10              900            30     167.64   65.77084           66   \n",
       "32    9              900            32     162.56   56.69900           65   \n",
       "42    4              900            24     170.18   56.69900           66   \n",
       "44    3              323            25     172.72   65.77084           69   \n",
       "48    1              900            28     182.88   65.77084           71   \n",
       "\n",
       "    TOTAL_AT_FIGHT  WINRATIO_AT_FIGHT  STRAVG_AT_FIGHT  TDAVG_AT_FIGHT  \\\n",
       "6               10           0.700000             46.4        2.900000   \n",
       "32              12           0.833333             44.0        1.166667   \n",
       "42               5           0.600000             37.8        3.400000   \n",
       "44               1           1.000000             15.0        2.000000   \n",
       "48               3           0.333333             40.0        0.333333   \n",
       "\n",
       "    SUBAVG_AT_FIGHT  PASSAVG_AT_FIGHT  \n",
       "6          1.100000          2.600000  \n",
       "32         0.333333          2.083333  \n",
       "42         0.600000          5.000000  \n",
       "44         0.000000          6.000000  \n",
       "48         0.333333          0.333333  "
      ]
     },
     "execution_count": 73,
     "metadata": {},
     "output_type": "execute_result"
    }
   ],
   "source": [
    "#X.head(5)"
   ]
  },
  {
   "cell_type": "code",
   "execution_count": 127,
   "metadata": {
    "collapsed": false
   },
   "outputs": [
    {
     "name": "stdout",
     "output_type": "stream",
     "text": [
      "0.755555555556\n",
      "[[76  0  0]\n",
      " [ 6 21 10]\n",
      " [ 8  9  5]]\n",
      "[('MID', -0.24430412198197562), ('TOTAL_INSECONDS', 0.011871787373812913), ('AGE_AT_FIGHT', 0.069274213423331038), ('HEIGHT_CM', -0.067152607577129361), ('WEIGHT_KG', 0.11246360205361557), ('REACH_INCH1', -0.068209945703902236), ('TOTAL_AT_FIGHT', 0.010965234038743223), ('WINRATIO_AT_FIGHT', 0.26560224766563578), ('STRAVG_AT_FIGHT', -0.01105213995607709), ('TDAVG_AT_FIGHT', -0.34939630966937452), ('SUBAVG_AT_FIGHT', -0.18658309309477331), ('PASSAVG_AT_FIGHT', 0.3435753917325392)]\n",
      "[ 0.78181818  0.8         0.76363636  0.74545455  0.81132075  0.73584906\n",
      "  0.71698113  0.77358491  0.77358491  0.73584906]\n",
      "0.763807890223\n",
      "[ 0.09803537  0.25441971  0.64754492]\n"
     ]
    },
    {
     "name": "stderr",
     "output_type": "stream",
     "text": [
      "/Users/LouisTsang/anaconda/lib/python2.7/site-packages/sklearn/utils/validation.py:386: DeprecationWarning: Passing 1d arrays as data is deprecated in 0.17 and willraise ValueError in 0.19. Reshape your data either using X.reshape(-1, 1) if your data has a single feature or X.reshape(1, -1) if it contains a single sample.\n",
      "  DeprecationWarning)\n"
     ]
    }
   ],
   "source": [
    "# \"Light\" Win-Type Model\n",
    "\n",
    "CLASS = 'Flyweight','Bantamweight','Featherweight',\n",
    "#CLASS = 'Lightweight','Welterweight',\n",
    "#CLASS = 'Middleweight','Light Heavyweight','Heavyweight',\n",
    "\n",
    "#CLASS = 'Flyweight','Bantamweight','Featherweight','Lightweight','Welterweight','Middleweight','Light Heavyweight','Heavyweight',\n",
    "\n",
    "feature_cols = UFC1b[(UFC1b.WEIGHT_CLASS.isin(CLASS))].iloc[:,[2,6,9,10,11,13,17,18,19,20,21,22]]\n",
    "X = feature_cols\n",
    "y = UFC1b[(UFC1b.WEIGHT_CLASS.isin(CLASS))].METHOD1\n",
    "\n",
    "#split the data into training and testing sets\n",
    "from sklearn.cross_validation import train_test_split\n",
    "X_train, X_test, y_train, y_test = train_test_split(X, y, random_state=1)\n",
    "\n",
    "#fit a logistic regression model and examine the coefficients\n",
    "from sklearn.linear_model import LogisticRegression\n",
    "logreg = LogisticRegression()\n",
    "logreg.fit(X_train, y_train)\n",
    "\n",
    "#make predictions on testing set and calculate accuracy\n",
    "y_pred_class = logreg.predict(X_test)\n",
    "print metrics.accuracy_score(y_test, y_pred_class)\n",
    "\n",
    "#Confusion Matrix\n",
    "prds = logreg.predict(X)\n",
    "print metrics.confusion_matrix(y_test, y_pred_class)\n",
    "\n",
    "#plot the predicted probabilities\n",
    "y_pred_prob = logreg.predict_proba(X_test)[-1,:]\n",
    "\n",
    "#print the coeff\n",
    "print zip(feature_cols, logreg.coef_[0])\n",
    "#convert log-odds to odds\n",
    "#zip(feature_cols, np.exp(logreg.coef_[0]))\n",
    "\n",
    "#Cross Validation\n",
    "from sklearn.linear_model import LogisticRegression\n",
    "from sklearn.cross_validation import train_test_split\n",
    "from sklearn import metrics\n",
    "from sklearn.cross_validation import cross_val_score\n",
    "#evaluate the model using 10-fold cross-validation\n",
    "scores = cross_val_score(LogisticRegression(), X, y, scoring='accuracy', cv=10)\n",
    "print scores\n",
    "print scores.mean()\n",
    "\n",
    "#Test and predicted probabilities\n",
    "print logreg.predict_proba([10,600,25,185,75,70,10,0.8,2,2,2.1,1])[-1,:]"
   ]
  },
  {
   "cell_type": "code",
   "execution_count": 123,
   "metadata": {
    "collapsed": false
   },
   "outputs": [
    {
     "name": "stdout",
     "output_type": "stream",
     "text": [
      "0.760252365931\n",
      "[[169   0   2]\n",
      " [  7  49  22]\n",
      " [ 12  33  23]]\n",
      "[('MID', 0.034645292545776071), ('TOTAL_INSECONDS', 0.020863180310245692), ('AGE_AT_FIGHT', -0.011174664064409827), ('HEIGHT_CM', -0.060323754863106552), ('WEIGHT_KG', 0.029988018297652484), ('REACH_INCH1', -0.093302624764184064), ('TOTAL_AT_FIGHT', -0.067754992379993315), ('WINRATIO_AT_FIGHT', -0.076853073676449862), ('STRAVG_AT_FIGHT', -0.0058134107175066476), ('TDAVG_AT_FIGHT', 0.057464134700940389), ('SUBAVG_AT_FIGHT', -0.28596797028868876), ('PASSAVG_AT_FIGHT', -0.11447794846798691)]\n",
      "[ 0.71653543  0.76377953  0.75590551  0.82677165  0.83464567  0.83333333\n",
      "  0.74603175  0.76984127  0.73809524  0.73015873]\n",
      "0.771509811274\n",
      "[  7.48291645e-06   3.53245365e-01   6.46747152e-01]\n"
     ]
    },
    {
     "name": "stderr",
     "output_type": "stream",
     "text": [
      "/Users/LouisTsang/anaconda/lib/python2.7/site-packages/sklearn/utils/validation.py:386: DeprecationWarning: Passing 1d arrays as data is deprecated in 0.17 and willraise ValueError in 0.19. Reshape your data either using X.reshape(-1, 1) if your data has a single feature or X.reshape(1, -1) if it contains a single sample.\n",
      "  DeprecationWarning)\n"
     ]
    }
   ],
   "source": [
    "# \"Middle\" Win-Type Model\n",
    "CLASS = 'Lightweight','Welterweight',\n",
    "#CLASS = 'Flyweight','Bantamweight','Featherweight','Lightweight','Welterweight','Middleweight','Light Heavyweight','Heavyweight',\n",
    "\n",
    "feature_cols = UFC1b[(UFC1b.WEIGHT_CLASS.isin(CLASS))].iloc[:,[2,6,9,10,11,13,17,18,19,20,21,22]]\n",
    "X = feature_cols\n",
    "y = UFC1b[(UFC1b.WEIGHT_CLASS.isin(CLASS))].METHOD1\n",
    "\n",
    "#split the data into training and testing sets\n",
    "from sklearn.cross_validation import train_test_split\n",
    "X_train, X_test, y_train, y_test = train_test_split(X, y, random_state=1)\n",
    "\n",
    "#fit a logistic regression model and examine the coefficients\n",
    "from sklearn.linear_model import LogisticRegression\n",
    "logreg = LogisticRegression()\n",
    "logreg.fit(X_train, y_train)\n",
    "\n",
    "#make predictions on testing set and calculate accuracy\n",
    "y_pred_class = logreg.predict(X_test)\n",
    "print metrics.accuracy_score(y_test, y_pred_class)\n",
    "\n",
    "#Confusion Matrix\n",
    "prds = logreg.predict(X)\n",
    "print metrics.confusion_matrix(y_test, y_pred_class)\n",
    "\n",
    "#plot the predicted probabilities\n",
    "y_pred_prob = logreg.predict_proba(X_test)[-1,:]\n",
    "\n",
    "#print the coeff\n",
    "print zip(feature_cols, logreg.coef_[0])\n",
    "#convert log-odds to odds\n",
    "#zip(feature_cols, np.exp(logreg.coef_[0]))\n",
    "\n",
    "#Cross Validation\n",
    "from sklearn.linear_model import LogisticRegression\n",
    "from sklearn.cross_validation import train_test_split\n",
    "from sklearn import metrics\n",
    "from sklearn.cross_validation import cross_val_score\n",
    "#evaluate the model using 10-fold cross-validation\n",
    "scores = cross_val_score(LogisticRegression(), X, y, scoring='accuracy', cv=10)\n",
    "print scores\n",
    "print scores.mean()\n",
    "\n",
    "#Test and predicted probabilities\n",
    "print logreg.predict_proba([10,240,25,185,75,70,10,0.8,2,2,2.1,1])[-1,:]"
   ]
  },
  {
   "cell_type": "code",
   "execution_count": 124,
   "metadata": {
    "collapsed": false
   },
   "outputs": [
    {
     "name": "stdout",
     "output_type": "stream",
     "text": [
      "0.762773722628\n",
      "[[106   2   0]\n",
      " [ 10  98   7]\n",
      " [  5  41   5]]\n",
      "[('MID', -0.094917573956871504), ('TOTAL_INSECONDS', 0.013235067512856448), ('AGE_AT_FIGHT', -0.035379062278941754), ('HEIGHT_CM', -0.0084747766440684685), ('WEIGHT_KG', 0.0074375729869622679), ('REACH_INCH1', -0.097432916128137995), ('TOTAL_AT_FIGHT', 0.004307628269892002), ('WINRATIO_AT_FIGHT', -0.11399142808280614), ('STRAVG_AT_FIGHT', -0.0098273530973850519), ('TDAVG_AT_FIGHT', -0.078241594131285327), ('SUBAVG_AT_FIGHT', 0.089661135938167241), ('PASSAVG_AT_FIGHT', 0.12282656755369339)]\n",
      "[ 0.75675676  0.79279279  0.73636364  0.77272727  0.78181818  0.75229358\n",
      "  0.78899083  0.82568807  0.73394495  0.72222222]\n",
      "0.766359829387\n",
      "[ 0.0018153   0.52423015  0.47395455]\n"
     ]
    },
    {
     "name": "stderr",
     "output_type": "stream",
     "text": [
      "/Users/LouisTsang/anaconda/lib/python2.7/site-packages/sklearn/utils/validation.py:386: DeprecationWarning: Passing 1d arrays as data is deprecated in 0.17 and willraise ValueError in 0.19. Reshape your data either using X.reshape(-1, 1) if your data has a single feature or X.reshape(1, -1) if it contains a single sample.\n",
      "  DeprecationWarning)\n"
     ]
    }
   ],
   "source": [
    "# \"Heavy\" Win-Type Model\n",
    "CLASS = 'Middleweight','Light Heavyweight','Heavyweight',\n",
    "#CLASS = 'Flyweight','Bantamweight','Featherweight','Lightweight','Welterweight','Middleweight','Light Heavyweight','Heavyweight',\n",
    "\n",
    "feature_cols = UFC1b[(UFC1b.WEIGHT_CLASS.isin(CLASS))].iloc[:,[2,6,9,10,11,13,17,18,19,20,21,22]]\n",
    "X = feature_cols\n",
    "y = UFC1b[(UFC1b.WEIGHT_CLASS.isin(CLASS))].METHOD1\n",
    "\n",
    "#split the data into training and testing sets\n",
    "from sklearn.cross_validation import train_test_split\n",
    "X_train, X_test, y_train, y_test = train_test_split(X, y, random_state=1)\n",
    "\n",
    "#fit a logistic regression model and examine the coefficients\n",
    "from sklearn.linear_model import LogisticRegression\n",
    "logreg = LogisticRegression()\n",
    "logreg.fit(X_train, y_train)\n",
    "\n",
    "#make predictions on testing set and calculate accuracy\n",
    "y_pred_class = logreg.predict(X_test)\n",
    "print metrics.accuracy_score(y_test, y_pred_class)\n",
    "\n",
    "#Confusion Matrix\n",
    "prds = logreg.predict(X)\n",
    "print metrics.confusion_matrix(y_test, y_pred_class)\n",
    "\n",
    "#plot the predicted probabilities\n",
    "y_pred_prob = logreg.predict_proba(X_test)[-1,:]\n",
    "\n",
    "#print the coeff\n",
    "print zip(feature_cols, logreg.coef_[0])\n",
    "#convert log-odds to odds\n",
    "#zip(feature_cols, np.exp(logreg.coef_[0]))\n",
    "\n",
    "#Cross Validation\n",
    "from sklearn.linear_model import LogisticRegression\n",
    "from sklearn.cross_validation import train_test_split\n",
    "from sklearn import metrics\n",
    "from sklearn.cross_validation import cross_val_score\n",
    "#evaluate the model using 10-fold cross-validation\n",
    "scores = cross_val_score(LogisticRegression(), X, y, scoring='accuracy', cv=10)\n",
    "print scores\n",
    "print scores.mean()\n",
    "\n",
    "#Test and predicted probabilities\n",
    "print logreg.predict_proba([10,240,25,185,75,70,10,0.8,2,2,2.1,1])[-1,:]"
   ]
  }
 ],
 "metadata": {
  "kernelspec": {
   "display_name": "Python 2",
   "language": "python",
   "name": "python2"
  },
  "language_info": {
   "codemirror_mode": {
    "name": "ipython",
    "version": 2
   },
   "file_extension": ".py",
   "mimetype": "text/x-python",
   "name": "python",
   "nbconvert_exporter": "python",
   "pygments_lexer": "ipython2",
   "version": "2.7.11"
  }
 },
 "nbformat": 4,
 "nbformat_minor": 0
}
