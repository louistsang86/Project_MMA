{
 "cells": [
  {
   "cell_type": "code",
   "execution_count": 2,
   "metadata": {
    "collapsed": true
   },
   "outputs": [],
   "source": [
    "%matplotlib inline\n",
    "import pandas as pd\n",
    "import numpy as np\n",
    "import matplotlib.pyplot as plt\n",
    "import matplotlib.cm as cm\n",
    "import seaborn as sns\n",
    "plt.style.use('ggplot') # This styles the graphs in a nicer format\n",
    "\n",
    "import statsmodels.formula.api as smf"
   ]
  },
  {
   "cell_type": "code",
   "execution_count": 3,
   "metadata": {
    "collapsed": false
   },
   "outputs": [
    {
     "data": {
      "text/plain": [
       "(7138, 53)"
      ]
     },
     "execution_count": 3,
     "metadata": {},
     "output_type": "execute_result"
    }
   ],
   "source": [
    "UFC = pd.read_csv('Data/2a) UFC Fights.csv')\n",
    "\n",
    "#make sure theres no space in the columns\n",
    "UFC.columns = [c.replace(' ', '_') for c in UFC.columns]\n",
    "#change outcome win = 1, everything else 0\n",
    "UFC['OUTCOME1'] = UFC.OUTCOME.map({'win':1, 'loss':0, 'draw':0, 'NC':0})\n",
    "#print column names and type\n",
    "UFC.dtypes\n",
    "UFC.shape"
   ]
  },
  {
   "cell_type": "code",
   "execution_count": 4,
   "metadata": {
    "collapsed": false
   },
   "outputs": [
    {
     "name": "stdout",
     "output_type": "stream",
     "text": [
      "Lightweight            1434\n",
      "Welterweight           1400\n",
      "Middleweight           1094\n",
      "Light Heavyweight       726\n",
      "Heavyweight             676\n",
      "Featherweight           546\n",
      "Bantamweight            434\n",
      "Flyweight               212\n",
      "Womens Bantamweight     110\n",
      "Womens Strawweight       76\n",
      "Catch Weight             28\n",
      "Super Heavyweight         2\n",
      "Name: WEIGHT_CLASS, dtype: int64\n",
      "Lightweight          1434\n",
      "Welterweight         1400\n",
      "Middleweight         1094\n",
      "Light Heavyweight     726\n",
      "Heavyweight           676\n",
      "Featherweight         546\n",
      "Bantamweight          434\n",
      "Flyweight             212\n",
      "Name: WEIGHT_CLASS, dtype: int64\n"
     ]
    }
   ],
   "source": [
    "#Add Business Filters\n",
    "#Exclude fights where it is single round only\n",
    "UFC1=UFC[(UFC.ROUND_FORMAT == 'MULTI-ROUND')]\n",
    "#see how many fights are there for each weight class\n",
    "print UFC1.WEIGHT_CLASS.value_counts()\n",
    "#from initial investigation we will exclude Women's classes, Catch Weight and Super Heavyweight\n",
    "UFC1=UFC[(UFC.ROUND_FORMAT == 'MULTI-ROUND')&(-UFC.WEIGHT_CLASS.isin(['Super Heavyweight','Catch Weight','Womens Bantamweight','Womens Strawweight']))&(UFC.WEIGHT_CLASS.notnull())]\n",
    "print UFC1.WEIGHT_CLASS.value_counts()"
   ]
  },
  {
   "cell_type": "code",
   "execution_count": 5,
   "metadata": {
    "collapsed": false
   },
   "outputs": [
    {
     "name": "stdout",
     "output_type": "stream",
     "text": [
      "(6522, 53)\n",
      "(3520, 53)\n",
      "(6522, 53)\n",
      "(3520, 53)\n",
      "(4694, 52)\n",
      "Lightweight          1074\n",
      "Welterweight          975\n",
      "Middleweight          748\n",
      "Light Heavyweight     496\n",
      "Featherweight         460\n",
      "Heavyweight           411\n",
      "Bantamweight          339\n",
      "Flyweight             191\n",
      "Name: WEIGHT_CLASS, dtype: int64\n"
     ]
    }
   ],
   "source": [
    "#check out missing values\n",
    "#print UFC1.isnull().sum()\n",
    "\n",
    "#we'll need to see if we want to fill the missing values or just exclude them\n",
    "#Lets see how much data we exclude by class if we exclude all observations with any missing values\n",
    "UFC1a = UFC1.dropna()\n",
    "print UFC1.shape\n",
    "print UFC1a.shape\n",
    "\n",
    "#roughly we've dropped half the observations - let's check by weight class but first..\n",
    "#check if nickname means anything, otherwise let's drop as it makes up most of the missing\n",
    "UFC1.NICK.isnull().sum()\n",
    "#print UFC1[(UFC1.NICK.isnull())&(UFC1.OUTCOME=='win')].shape\n",
    "#print UFC1[(UFC1.NICK.notnull())&(UFC1.OUTCOME=='win')].shape\n",
    "#seems irrelevant, I'm going to remove the column and exclude again to increase data points\n",
    "\n",
    "UFC1b = UFC1.drop('NICK', 1)\n",
    "UFC1b = UFC1b.dropna()\n",
    "print UFC1.shape\n",
    "print UFC1a.shape\n",
    "print UFC1b.shape\n",
    "\n",
    "#how much remaining by class?\n",
    "print UFC1b.WEIGHT_CLASS.value_counts()"
   ]
  },
  {
   "cell_type": "code",
   "execution_count": 24,
   "metadata": {
    "collapsed": false
   },
   "outputs": [
    {
     "data": {
      "text/plain": [
       "FIGHT_ORDER              -0.003482\n",
       "EVENT_YEAR               -0.004577\n",
       "EVENT_MONTH               0.003071\n",
       "EVENT_DAY                 0.000557\n",
       "ATTENDANCE                0.008482\n",
       "MID                       0.006118\n",
       "ROUND                    -0.005023\n",
       "FINISH_ROUND_MIN          0.005327\n",
       "FINISH_ROUND_SEC         -0.009988\n",
       "FINISH_ROUND_INSECONDS    0.003787\n",
       "TOTAL_INSECONDS          -0.003223\n",
       "FIGHTER_ID                0.066602\n",
       "STR                       0.248722\n",
       "TD                        0.254760\n",
       "SUB                       0.120424\n",
       "PASS                      0.328087\n",
       "BIRTH_YEAR                0.116619\n",
       "AGE_AT_FIGHT             -0.129337\n",
       "HEIGHT_CM                 0.019949\n",
       "WEIGHT_KG                 0.048809\n",
       "REACH_INCH                0.025906\n",
       "WIN_AT_FIGHT              0.034591\n",
       "NOTWIN_AT_FIGHT          -0.016923\n",
       "TOTAL_AT_FIGHT            0.016752\n",
       "WINRATIO_AT_FIGHT         0.056973\n",
       "AGE_DIFF                 -0.194598\n",
       "HEIGHT_DIFF               0.029992\n",
       "WEIGHT_DIFF               0.067754\n",
       "REACH_DIFF                0.030760\n",
       "EXP_DIFF                  0.021910\n",
       "WINRATIO_DIFF             0.098981\n",
       "OUTCOME1                  1.000000\n",
       "Name: OUTCOME1, dtype: float64"
      ]
     },
     "execution_count": 24,
     "metadata": {},
     "output_type": "execute_result"
    }
   ],
   "source": [
    "#lets now have a look at correlation matrix for each class - total one won't mean much \n",
    "#as fighters fight at different weight classes\n",
    "\n",
    "\n",
    "#Weight class\tUpper weight limit\n",
    "#Strawweight\t115 lb (52.2 kg; 8.2 st)\n",
    "#Flyweight\t125 lb (56.7 kg; 8.9 st)\n",
    "#Bantamweight\t135 lb (61.2 kg; 9.6 st)\n",
    "#Featherweight\t145 lb (65.8 kg; 10.4 st)\n",
    "#Lightweight\t155 lb (70.3 kg; 11.1 st)\n",
    "#Welterweight\t170 lb (77.1 kg; 12.1 st)\n",
    "#Middleweight\t185 lb (83.9 kg; 13.2 st)\n",
    "#Light Heavyweight\t205 lb (93.0 kg; 14.6 st)\n",
    "#Heavyweight\t265 lb (120.2 kg; 18.9 st)\n",
    "#Super Heavyweight\tN/A\n",
    "\n",
    "\n",
    "FLYCORR = (UFC1b[(UFC1b.WEIGHT_CLASS == 'Flyweight')].corr()).OUTCOME1\n",
    "BANTCORR = (UFC1b[(UFC1b.WEIGHT_CLASS == 'Bantamweight')].corr()).OUTCOME1\n",
    "FEATCORR = (UFC1b[(UFC1b.WEIGHT_CLASS == 'Featherweight')].corr()).OUTCOME1\n",
    "LIGHTCORR = (UFC1b[(UFC1b.WEIGHT_CLASS == 'Lightweight')].corr()).OUTCOME1\n",
    "WELTCORR = (UFC1b[(UFC1b.WEIGHT_CLASS == 'Welterweight')].corr()).OUTCOME1\n",
    "MIDDLECORR = (UFC1b[(UFC1b.WEIGHT_CLASS == 'Middleweight')].corr()).OUTCOME1\n",
    "LHCORR = (UFC1b[(UFC1b.WEIGHT_CLASS == 'Light Heavyweight')].corr()).OUTCOME1\n",
    "HEAVYCORR = (UFC1b[(UFC1b.WEIGHT_CLASS == 'Heavyweight')].corr()).OUTCOME1\n",
    "\n",
    "LIGHTCORR"
   ]
  },
  {
   "cell_type": "code",
   "execution_count": null,
   "metadata": {
    "collapsed": true
   },
   "outputs": [],
   "source": []
  }
 ],
 "metadata": {
  "kernelspec": {
   "display_name": "Python 2",
   "language": "python",
   "name": "python2"
  },
  "language_info": {
   "codemirror_mode": {
    "name": "ipython",
    "version": 2
   },
   "file_extension": ".py",
   "mimetype": "text/x-python",
   "name": "python",
   "nbconvert_exporter": "python",
   "pygments_lexer": "ipython2",
   "version": "2.7.11"
  }
 },
 "nbformat": 4,
 "nbformat_minor": 0
}
